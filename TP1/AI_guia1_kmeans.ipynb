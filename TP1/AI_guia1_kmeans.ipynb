{
  "nbformat": 4,
  "nbformat_minor": 0,
  "metadata": {
    "colab": {
      "name": "AI_guia1_kmeans.ipynb",
      "provenance": [],
      "collapsed_sections": [],
      "toc_visible": true
    },
    "kernelspec": {
      "name": "python3",
      "display_name": "Python 3"
    }
  },
  "cells": [
    {
      "cell_type": "markdown",
      "metadata": {
        "id": "3nW-y4KkQCkO",
        "colab_type": "text"
      },
      "source": [
        "Solución de ejercicio de Kmeans utilizando scikitlearn, python y COLAB\n",
        "\n",
        "En primer lugar instalamos la librería scikit-learn"
      ]
    },
    {
      "cell_type": "code",
      "metadata": {
        "id": "LFhnmykF7ojl",
        "colab_type": "code",
        "outputId": "f1993701-a54a-445e-dc32-69723ead7416",
        "colab": {
          "base_uri": "https://localhost:8080/",
          "height": 85
        }
      },
      "source": [
        "!pip install scikit-learn"
      ],
      "execution_count": 0,
      "outputs": [
        {
          "output_type": "stream",
          "text": [
            "Requirement already satisfied: scikit-learn in /usr/local/lib/python3.6/dist-packages (0.22.2.post1)\n",
            "Requirement already satisfied: scipy>=0.17.0 in /usr/local/lib/python3.6/dist-packages (from scikit-learn) (1.4.1)\n",
            "Requirement already satisfied: joblib>=0.11 in /usr/local/lib/python3.6/dist-packages (from scikit-learn) (0.14.1)\n",
            "Requirement already satisfied: numpy>=1.11.0 in /usr/local/lib/python3.6/dist-packages (from scikit-learn) (1.18.2)\n"
          ],
          "name": "stdout"
        }
      ]
    },
    {
      "cell_type": "markdown",
      "metadata": {
        "id": "odWeBI8LQV2_",
        "colab_type": "text"
      },
      "source": [
        "Luego importamos las librerías necesarias para resolver el ejercicio"
      ]
    },
    {
      "cell_type": "code",
      "metadata": {
        "id": "bbz6bjV1BWN5",
        "colab_type": "code",
        "colab": {}
      },
      "source": [
        "import numpy as np\n",
        "import matplotlib.pyplot as plt\n",
        "from sklearn.cluster import KMeans\n",
        "from sklearn.metrics import silhouette_score, davies_bouldin_score\n",
        "%matplotlib inline"
      ],
      "execution_count": 0,
      "outputs": []
    },
    {
      "cell_type": "markdown",
      "metadata": {
        "id": "xo3LiQROQcMn",
        "colab_type": "text"
      },
      "source": [
        "Cargamos en archivo con los datos a una variable y comprobamos sus dimensiones"
      ]
    },
    {
      "cell_type": "code",
      "metadata": {
        "id": "IeITxj9wD50o",
        "colab_type": "code",
        "outputId": "e4935434-07e7-40fc-cddd-599865a9bea6",
        "colab": {
          "base_uri": "https://localhost:8080/",
          "height": 34
        }
      },
      "source": [
        "X = np.loadtxt(\"kmeansdata.txt\", dtype=np.float32, )\n",
        "X.shape"
      ],
      "execution_count": 0,
      "outputs": [
        {
          "output_type": "execute_result",
          "data": {
            "text/plain": [
              "(560, 4)"
            ]
          },
          "metadata": {
            "tags": []
          },
          "execution_count": 5
        }
      ]
    },
    {
      "cell_type": "markdown",
      "metadata": {
        "id": "UOtJKLnIQj9C",
        "colab_type": "text"
      },
      "source": [
        "Aplicamos K-means a los datos de entrada para 10 casos de cluster (entre 2 y 11) para luego analizar cuál es el número óptimo de clusters."
      ]
    },
    {
      "cell_type": "code",
      "metadata": {
        "id": "jaFmL7K4PQ46",
        "colab_type": "code",
        "colab": {}
      },
      "source": [
        "Nc = range(2, 11)\n",
        "kmeans = [KMeans(n_clusters=i) for i in Nc]\n",
        "score = [kmeans[i].fit(X).score(X) for i in range(len(kmeans))]"
      ],
      "execution_count": 0,
      "outputs": []
    },
    {
      "cell_type": "markdown",
      "metadata": {
        "id": "_BlEMfVhQ1XC",
        "colab_type": "text"
      },
      "source": [
        "Una manera de analizar cuál es el número óptimo es graficando la variable \"score\" en función de la cantidad de clusters y luego analizar el \"punto de codo (elbow point)\". Aquí podemos tener una primera intuición de que el número óptimo de clusters es para N = 4."
      ]
    },
    {
      "cell_type": "code",
      "metadata": {
        "id": "MlZ8K_JXdbhe",
        "colab_type": "code",
        "outputId": "2a01bb9f-f950-49e4-97d9-91bb091b0110",
        "colab": {
          "base_uri": "https://localhost:8080/",
          "height": 279
        }
      },
      "source": [
        "plt.plot(Nc,score)\n",
        "plt.xlabel('Número de Clusters')\n",
        "plt.ylabel('Score')\n",
        "plt.show()"
      ],
      "execution_count": 0,
      "outputs": [
        {
          "output_type": "display_data",
          "data": {
            "image/png": "[encoded data removed]",
            "text/plain": [
              "<Figure size 432x288 with 1 Axes>"
            ]
          },
          "metadata": {
            "tags": []
          }
        }
      ]
    },
    {
      "cell_type": "markdown",
      "metadata": {
        "id": "jO31PH4rRXAp",
        "colab_type": "text"
      },
      "source": [
        "Finalmente, volvemos a calcular Kmeans para los 10 casos pero esta vez evaluamos el valor de Davies-Bouldin y Silhouette en cada iteración. Mientras hacemos esto guardamos el caso en el cual el número de Silhouette sea mayor."
      ]
    },
    {
      "cell_type": "code",
      "metadata": {
        "id": "CfU2cjR6Z6EH",
        "colab_type": "code",
        "outputId": "3376b317-ec69-4af0-b3bc-962b714adb2c",
        "colab": {
          "base_uri": "https://localhost:8080/",
          "height": 170
        }
      },
      "source": [
        "max_sil = -1\n",
        "cluster_final = 0\n",
        "for n_clusters in Nc:\n",
        "    clusterer = KMeans(n_clusters=n_clusters)\n",
        "    cluster_labels = clusterer.fit_predict(X)\n",
        "\n",
        "    davies_bs_avg = davies_bouldin_score(X, cluster_labels)\n",
        "    silhouette_avg = silhouette_score(X, cluster_labels)\n",
        "\n",
        "    if silhouette_avg > max_sil:\n",
        "      max_sil = silhouette_avg\n",
        "      cluster_final = n_clusters\n",
        "      \n",
        "    print(\"Para el n_clusters =\", n_clusters, \"El valor de silhouette_score es :\", silhouette_avg, \" y el de davies_bouldin es :\", davies_bs_avg)\n"
      ],
      "execution_count": 0,
      "outputs": [
        {
          "output_type": "stream",
          "text": [
            "Para el n_clusters = 2 El valor de silhouette_score es : 0.47062117  y el de davies_bouldin es : 0.9985163487333623\n",
            "Para el n_clusters = 3 El valor de silhouette_score es : 0.5613666  y el de davies_bouldin es : 0.6466187416484912\n",
            "Para el n_clusters = 4 El valor de silhouette_score es : 0.6625711  y el de davies_bouldin es : 0.45082504823606695\n",
            "Para el n_clusters = 5 El valor de silhouette_score es : 0.53050965  y el de davies_bouldin es : 0.7052289641068482\n",
            "Para el n_clusters = 6 El valor de silhouette_score es : 0.44333482  y el de davies_bouldin es : 0.8680858390271018\n",
            "Para el n_clusters = 7 El valor de silhouette_score es : 0.38086733  y el de davies_bouldin es : 0.9725212085893357\n",
            "Para el n_clusters = 8 El valor de silhouette_score es : 0.34016845  y el de davies_bouldin es : 1.060905378795482\n",
            "Para el n_clusters = 9 El valor de silhouette_score es : 0.31052208  y el de davies_bouldin es : 1.1146680585751116\n",
            "Para el n_clusters = 10 El valor de silhouette_score es : 0.29573083  y el de davies_bouldin es : 1.144049550519465\n"
          ],
          "name": "stdout"
        }
      ]
    },
    {
      "cell_type": "markdown",
      "metadata": {
        "id": "XHVtNP3oSyve",
        "colab_type": "text"
      },
      "source": [
        "Con el valor óptimo de Silhouette informamos cuál es el número ópimo de clusters y la ubicación de los centros."
      ]
    },
    {
      "cell_type": "code",
      "metadata": {
        "id": "lPJphSfkRt2m",
        "colab_type": "code",
        "outputId": "f6f68c8e-1ba1-4ddb-e771-886670353217",
        "colab": {
          "base_uri": "https://localhost:8080/",
          "height": 102
        }
      },
      "source": [
        "kmeans = KMeans(n_clusters=cluster_final).fit(X)\n",
        "labels = kmeans.predict(X)\n",
        "centroids = kmeans.cluster_centers_\n",
        "\n",
        "print(\"El número final de clusters es\",cluster_final)\n",
        "centroids"
      ],
      "execution_count": 0,
      "outputs": [
        {
          "output_type": "stream",
          "text": [
            "El número final de clusters es 4\n"
          ],
          "name": "stdout"
        },
        {
          "output_type": "execute_result",
          "data": {
            "text/plain": [
              "array([[-3.035002 ,  2.6056266, -2.910405 ,  2.7347767],\n",
              "       [ 2.8035884,  2.7858958,  2.7601883,  2.8835957],\n",
              "       [-2.8408976, -2.877892 , -2.9607062, -2.873948 ],\n",
              "       [ 2.9219804, -2.7938664,  2.838122 , -2.924061 ]], dtype=float32)"
            ]
          },
          "metadata": {
            "tags": []
          },
          "execution_count": 9
        }
      ]
    },
    {
      "cell_type": "code",
      "metadata": {
        "id": "ZUnZ_MzUdNmM",
        "colab_type": "code",
        "colab": {}
      },
      "source": [
        ""
      ],
      "execution_count": 0,
      "outputs": []
    }
  ]
}