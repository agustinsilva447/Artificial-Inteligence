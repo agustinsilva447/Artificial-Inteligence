{
  "nbformat": 4,
  "nbformat_minor": 0,
  "metadata": {
    "colab": {
      "name": "Silva_Agustin_AI_2do_exanen.ipynb",
      "provenance": [],
      "collapsed_sections": []
    },
    "kernelspec": {
      "display_name": "Python 3",
      "language": "python",
      "name": "python3"
    },
    "language_info": {
      "codemirror_mode": {
        "name": "ipython",
        "version": 3
      },
      "file_extension": ".py",
      "mimetype": "text/x-python",
      "name": "python",
      "nbconvert_exporter": "python",
      "pygments_lexer": "ipython3",
      "version": "3.8.3"
    }
  },
  "cells": [
    {
      "cell_type": "code",
      "metadata": {
        "colab_type": "code",
        "id": "OLavGrDpXuY-",
        "colab": {}
      },
      "source": [
        "import numpy as np\n",
        "import matplotlib.pyplot as plt"
      ],
      "execution_count": 1,
      "outputs": []
    },
    {
      "cell_type": "markdown",
      "metadata": {
        "colab_type": "text",
        "id": "qe1FRFL_1Ktx"
      },
      "source": [
        "# Ejercicio 1"
      ]
    },
    {
      "cell_type": "markdown",
      "metadata": {
        "colab_type": "text",
        "id": "8vaE3FJq1MnS"
      },
      "source": [
        "## Inciso a)"
      ]
    },
    {
      "cell_type": "markdown",
      "metadata": {
        "colab_type": "text",
        "id": "hHi8HEY-1PRN"
      },
      "source": [
        "En primer lugar hay que verificar el funcionamiento de sistema de almacenamiento de datos para posteriormente hacer un correcto preprocesamiento. Aquí ordenaremos los datos y haremos la ingeniería de datos necesaria (por ejemplo extracción de features) para que, una vez estos transformados en el formato adecuado, podamos procesarlos con las distintas herramientas de minería de datos disponibles. Finalmente, se analizarán los resultados y se intentará interpretarlos y sacar conclusiones a partir de ellos."
      ]
    },
    {
      "cell_type": "markdown",
      "metadata": {
        "colab_type": "text",
        "id": "NRMloDQn6I4I"
      },
      "source": [
        "## Inciso b)"
      ]
    },
    {
      "cell_type": "markdown",
      "metadata": {
        "colab_type": "text",
        "id": "prOCNWxV6Kwm"
      },
      "source": [
        "Posible hipótesis: Los usuarios que tienen edades más bajar y utilizan frecuentemente tarjeta de crédito, tienen más probabilidad de realizar fraude."
      ]
    },
    {
      "cell_type": "markdown",
      "metadata": {
        "colab_type": "text",
        "id": "CGjY8vy96NSc"
      },
      "source": [
        "## Inciso c)"
      ]
    },
    {
      "cell_type": "markdown",
      "metadata": {
        "colab_type": "text",
        "id": "5WrsZd7o6R_F"
      },
      "source": [
        "Al contar con datos etiquetados podemos utilizar todas las técnicas conocidas de entrenamiento supervisado, principalmente las de clasificación. Podemos utilizar una red neuronal totalmente conectada con algunas capaz escondidas. \n",
        "Sin embargo, otra herramienta como los self-organized maps nos permite hacer clustering (no supervisado) utilizando los datos sin etiquetas y hacer un análisis de los datos y sus variables. Al mismo tiempo el SOM nos permite aprovechar las etiquetas para intentificar patrones de conducta."
      ]
    },
    {
      "cell_type": "markdown",
      "metadata": {
        "colab_type": "text",
        "id": "2kVFglKX6UY6"
      },
      "source": [
        "## Inciso d)"
      ]
    },
    {
      "cell_type": "markdown",
      "metadata": {
        "colab_type": "text",
        "id": "46UhhSxh6WkY"
      },
      "source": [
        "### i)"
      ]
    },
    {
      "cell_type": "markdown",
      "metadata": {
        "colab_type": "text",
        "id": "3MkScp366Ye1"
      },
      "source": [
        "Como se mencionó anteriormente, utilizando el SOM podríamos hacer una análisis de las variables buscando correlaciones utilizando el análisis de componentes y así poder, eventualmente, deshacernos de dimensiones que no nos aportan información."
      ]
    },
    {
      "cell_type": "markdown",
      "metadata": {
        "colab_type": "text",
        "id": "Krq2Jh5-6ZXD"
      },
      "source": [
        "### ii)"
      ]
    },
    {
      "cell_type": "markdown",
      "metadata": {
        "colab_type": "text",
        "id": "4yEEl_uT6cmb"
      },
      "source": [
        "Si utilizamos una red neuronal totalmente conectada para el proceso de clasificación debemos definir distintos hyperparámetros. En primer lugar, lo relacionado a la arquitectura: cantidad de capas ocultas, cantidad de neuronas por capa oculta y funciones de activación en cada una. En segundo lugar, debemos definir otros valores como el learning rate, el método de optimización (descenso del gradiente, Adam, etc) y la cantidad de épocas o el método de detensión."
      ]
    },
    {
      "cell_type": "markdown",
      "metadata": {
        "colab_type": "text",
        "id": "b7GRrioJ6dtP"
      },
      "source": [
        "### iii)"
      ]
    },
    {
      "cell_type": "markdown",
      "metadata": {
        "colab_type": "text",
        "id": "2CL0D6fC6h7o"
      },
      "source": [
        "El proceso de evaluación de calidad se debe realizar utilizando el validation set y el test set. Por ejemplo, el modelo entrenado con el training set debe darnos un valor de accuracy similar al que tengamos en el test set. Si obtenemos un alto valor de accuracy en el training un bajo de valor en el test set estaríamos obteniendo un overfiting y habría que reacomodar los hyperparámetros del sistema."
      ]
    },
    {
      "cell_type": "markdown",
      "metadata": {
        "colab_type": "text",
        "id": "Pa0Zu7GQy5a-"
      },
      "source": [
        "# Ejercicio 2"
      ]
    },
    {
      "cell_type": "markdown",
      "metadata": {
        "colab_type": "text",
        "id": "fSfLqG5Dy8Xs"
      },
      "source": [
        "## Inciso a)"
      ]
    },
    {
      "cell_type": "markdown",
      "metadata": {
        "colab_type": "text",
        "id": "-qD0tgnH1IFy"
      },
      "source": [
        "Imagen adjunta."
      ]
    },
    {
      "cell_type": "markdown",
      "metadata": {
        "colab_type": "text",
        "id": "whc7Mycvq83m"
      },
      "source": [
        "# Ejercicio 3"
      ]
    },
    {
      "cell_type": "markdown",
      "metadata": {
        "colab_type": "text",
        "id": "9TqtTARSsW-S"
      },
      "source": [
        "## Inciso a)"
      ]
    },
    {
      "cell_type": "code",
      "metadata": {
        "colab_type": "code",
        "id": "PMIuamAMrkoM",
        "colab": {
          "base_uri": "https://localhost:8080/",
          "height": 85
        },
        "outputId": "4fb6e6bc-631d-4b6c-c989-b98c57c3f65a"
      },
      "source": [
        "#defino los codebooks y los datos\n",
        "CB1 = np.array([[0.5, 0.95, 0.3], [0.5, 0.4, 0.1], [0.1, 0.2, 0.85], \n",
        "                [0.7, 0.7, 0.6]])\n",
        "CB2 = np.array([[0.5, 0.95, 0.3], [0.7, 0.4, 0.25], [0.15, 0.2, 0.85], \n",
        "                [0.35, 0.3, 0.6]])\n",
        "datos = np.array([[0.9, 0.9, 0.9], [0.1, 0.1, 0.5]])\n",
        "#inicializo las bmu\n",
        "bmu01 = np.array([0, 0, 0]).reshape(-1, 1) \n",
        "bmu02 = np.array([0, 0, 0]).reshape(-1, 1)\n",
        "bmu11 = np.array([0, 0, 0]).reshape(-1, 1)\n",
        "bmu12 = np.array([0, 0, 0]).reshape(-1, 1)\n",
        "\n",
        "for i in range(4):\n",
        "  #calculo las distancias entre los todos datos y los todos bmu y los \n",
        "  #comparon con las distancias de los todos datos al codebook\n",
        "\n",
        "  if (np.linalg.norm(datos[0] - CB1[i,:]) < \n",
        "      np.linalg.norm(datos[0] - bmu01)) :\n",
        "    bmu01 = CB1[i,:]\n",
        "  if (np.linalg.norm(datos[0] - CB2[i,:]) < \n",
        "      np.linalg.norm(datos[0] - bmu02)) :\n",
        "    bmu02 = CB2[i,:]\n",
        "  if (np.linalg.norm(datos[1] - CB1[i,:]) < \n",
        "      np.linalg.norm(datos[1] - bmu11)) :\n",
        "    bmu11 = CB1[i,:]\n",
        "  if (np.linalg.norm(datos[1] - CB2[i,:]) <\n",
        "      np.linalg.norm(datos[1] - bmu12)) :\n",
        "    bmu12 = CB2[i,:]\n",
        "\n",
        "print(\"BMU del primer dato con el codebook 1:\", bmu01)\n",
        "print(\"BMU del primer dato con el codebook 2:\", bmu02)\n",
        "print(\"BMU del segundo dato con el codebook 1:\", bmu11)\n",
        "print(\"BMU del segundo dato con el codebook 2:\", bmu12)"
      ],
      "execution_count": 2,
      "outputs": [
        {
          "output_type": "stream",
          "text": [
            "BMU del primer dato con el codebook 1: [0.7 0.7 0.6]\n",
            "BMU del primer dato con el codebook 2: [0.5  0.95 0.3 ]\n",
            "BMU del segundo dato con el codebook 1: [0.1  0.2  0.85]\n",
            "BMU del segundo dato con el codebook 2: [0.35 0.3  0.6 ]\n"
          ],
          "name": "stdout"
        }
      ]
    },
    {
      "cell_type": "markdown",
      "metadata": {
        "colab_type": "text",
        "id": "xWkTOOkYwkyW"
      },
      "source": [
        "## Inciso b)"
      ]
    },
    {
      "cell_type": "markdown",
      "metadata": {
        "colab_type": "text",
        "id": "gOAigpfyx8xG"
      },
      "source": [
        "Imagen adjunta."
      ]
    },
    {
      "cell_type": "markdown",
      "metadata": {
        "colab_type": "text",
        "id": "MYjUEMTryAED"
      },
      "source": [
        "## Inciso c)"
      ]
    },
    {
      "cell_type": "markdown",
      "metadata": {
        "colab_type": "text",
        "id": "hxLuHO4hyFrg"
      },
      "source": [
        "El codebook 2 representa mejor a los datos ya que estos están mejor distribuidos en el SOM."
      ]
    },
    {
      "cell_type": "markdown",
      "metadata": {
        "colab_type": "text",
        "id": "i5gpe0NcyPBu"
      },
      "source": [
        "## Inciso d)"
      ]
    },
    {
      "cell_type": "markdown",
      "metadata": {
        "colab_type": "text",
        "id": "5q1hRsgvyvSU"
      },
      "source": [
        "Imagen adjunta."
      ]
    },
    {
      "cell_type": "markdown",
      "metadata": {
        "colab_type": "text",
        "id": "OZJwXK0IePho"
      },
      "source": [
        "# Ejercicio  4"
      ]
    },
    {
      "cell_type": "markdown",
      "metadata": {
        "colab_type": "text",
        "id": "zFFMhlLVeUcs"
      },
      "source": [
        "## Inciso a)"
      ]
    },
    {
      "cell_type": "code",
      "metadata": {
        "colab_type": "code",
        "id": "_YSren3-ZUGk",
        "colab": {}
      },
      "source": [
        "#defino X (con un uno al final para bias)\n",
        "X = np.array([[0.9, 0.9, 0.9, 1, 1],[0.1, -0.2, 0.5, -0.2, 1]]).T \n",
        "#defino Y\n",
        "Y = np.array([1, -1]).reshape(-1, 1)                              \n",
        "#defino W (con b al final)\n",
        "W = np.array([0.2, 1.5, 0.9, -1.6, 2.2]).reshape(-1, 1).T         \n",
        "#defino la salida vacía\n",
        "yhat = np.array([0, 0]).reshape(-1, 1)                            "
      ],
      "execution_count": 3,
      "outputs": []
    },
    {
      "cell_type": "code",
      "metadata": {
        "colab_type": "code",
        "id": "HFu56QGPdVmQ",
        "colab": {
          "base_uri": "https://localhost:8080/",
          "height": 34
        },
        "outputId": "e5850cdf-493f-4b3a-9691-c18fa8467cb7"
      },
      "source": [
        "v = np.dot(W, X[:,0].reshape(-1,1)) #multiplico W y X[0]\n",
        "yhat[0] = np.sign(v)                #aplico función signo\n",
        "print(\"La salida obtenida para la primera entrada es\", yhat[0])"
      ],
      "execution_count": 4,
      "outputs": [
        {
          "output_type": "stream",
          "text": [
            "La salida obtenida para la primera entrada es [1]\n"
          ],
          "name": "stdout"
        }
      ]
    },
    {
      "cell_type": "code",
      "metadata": {
        "colab_type": "code",
        "id": "031aMXJidq1A",
        "colab": {
          "base_uri": "https://localhost:8080/",
          "height": 34
        },
        "outputId": "8df3029d-5e54-4a83-b1a0-e154972a84b1"
      },
      "source": [
        "v = np.dot(W, X[:,1].reshape(-1,1)) #multiplico W y X[1]\n",
        "yhat[1] = np.sign(v)                #aplico función signo\n",
        "print(\"La salida obtenida para la primera entrada es\", yhat[1])"
      ],
      "execution_count": 5,
      "outputs": [
        {
          "output_type": "stream",
          "text": [
            "La salida obtenida para la primera entrada es [1]\n"
          ],
          "name": "stdout"
        }
      ]
    },
    {
      "cell_type": "markdown",
      "metadata": {
        "colab_type": "text",
        "id": "3yXKHPX5eZxf"
      },
      "source": [
        "Como la salida obtenida coincide con la salida deseada para el primer dato y no para el segundo. El accuracy es 0.5 (50%)."
      ]
    },
    {
      "cell_type": "markdown",
      "metadata": {
        "colab_type": "text",
        "id": "eSQbc1vNfCra"
      },
      "source": [
        "## Inciso b)"
      ]
    },
    {
      "cell_type": "code",
      "metadata": {
        "colab_type": "code",
        "id": "V4JG6qd6eLr6",
        "colab": {
          "base_uri": "https://localhost:8080/",
          "height": 34
        },
        "outputId": "75d0f252-3249-4a1a-d3a9-19e374e12984"
      },
      "source": [
        "lr = 0.4                            #defino el learning rate\n",
        "e = lr * (Y[0] - yhat[0])           #error para el primer dato\n",
        "W = W + e * X[:,0].reshape(-1,1).T  #actualizo W primer caso\n",
        "e = lr * (Y[1] - yhat[1])           #error para el segundo dato\n",
        "W = W + e * X[:,1].reshape(-1,1).T  #actualizo W segundo caso\n",
        "print(W)"
      ],
      "execution_count": 6,
      "outputs": [
        {
          "output_type": "stream",
          "text": [
            "[[ 0.12  1.66  0.5  -1.44  1.4 ]]\n"
          ],
          "name": "stdout"
        }
      ]
    },
    {
      "cell_type": "code",
      "metadata": {
        "colab_type": "code",
        "id": "3ulLKRZWhsUa",
        "colab": {
          "base_uri": "https://localhost:8080/",
          "height": 34
        },
        "outputId": "29832d59-18ec-4df6-e780-525d44148bb1"
      },
      "source": [
        "v = np.dot(W, X[:,0].reshape(-1,1)) #multiplico W y X[0]\n",
        "yhat[0] = np.sign(v)                #aplico función signo\n",
        "print(\"La nueva salida obtenida para la primera entrada es\", yhat[0])"
      ],
      "execution_count": 7,
      "outputs": [
        {
          "output_type": "stream",
          "text": [
            "La nueva salida obtenida para la primera entrada es [1]\n"
          ],
          "name": "stdout"
        }
      ]
    },
    {
      "cell_type": "code",
      "metadata": {
        "colab_type": "code",
        "id": "MksBcAl7iEwD",
        "colab": {
          "base_uri": "https://localhost:8080/",
          "height": 34
        },
        "outputId": "17821bd7-97ef-4e3a-efbe-64a69e739319"
      },
      "source": [
        "v = np.dot(W, X[:,1].reshape(-1,1)) #multiplico W y X[1]\n",
        "yhat[1] = np.sign(v)                #aplico función signo\n",
        "print(\"La nueva salida obtenida para la primera entrada es\", yhat[1])"
      ],
      "execution_count": 8,
      "outputs": [
        {
          "output_type": "stream",
          "text": [
            "La nueva salida obtenida para la primera entrada es [1]\n"
          ],
          "name": "stdout"
        }
      ]
    },
    {
      "cell_type": "markdown",
      "metadata": {
        "colab_type": "text",
        "id": "ox54L-NXjuOf"
      },
      "source": [
        "## Inciso c)"
      ]
    },
    {
      "cell_type": "markdown",
      "metadata": {
        "colab_type": "text",
        "id": "jAXLJKldjx-M"
      },
      "source": [
        "Una vez actualizados los pesos por una iteración, el accuracy sigue siendo el mismo (50%) a pesar que los pesos se modificaron. Sin embargo, en calculos auxiliares comprobé que con 4 iteraciones el algoritmo converge a la solución esperada con un accuracy del 100%."
      ]
    },
    {
      "cell_type": "markdown",
      "metadata": {
        "colab_type": "text",
        "id": "tF3-EMOdkHY0"
      },
      "source": [
        "## Inciso d)"
      ]
    },
    {
      "cell_type": "markdown",
      "metadata": {
        "colab_type": "text",
        "id": "yYRY-P9fkRIu"
      },
      "source": [
        "W = [ 0.12  1.66  0.5  -1.44  1.4 ]. Por lo tanto:\n",
        "\n",
        "**0.12 * X1 + 1.66 * X2 + 0.5 * X3 - 1.44 * X4 + 1.4 = 0**"
      ]
    },
    {
      "cell_type": "markdown",
      "metadata": {
        "colab_type": "text",
        "id": "TDtaTvRwmBgr"
      },
      "source": [
        "# Ejercicio 5"
      ]
    },
    {
      "cell_type": "markdown",
      "metadata": {
        "colab_type": "text",
        "id": "fX9rELw9mFFN"
      },
      "source": [
        "## Inciso a)"
      ]
    },
    {
      "cell_type": "code",
      "metadata": {
        "colab_type": "code",
        "id": "OmgfvHPcmDcs",
        "colab": {
          "base_uri": "https://localhost:8080/",
          "height": 282
        },
        "outputId": "d023b383-34c5-439a-e1bb-99d6287e6343"
      },
      "source": [
        " #inicializo la cantidad de días del 1 al 20\n",
        "X = np.arange(1, 21, 1)\n",
        "#genero datos para los 20 días\n",
        "Y = [2, 3, 8, 12, 17, 22, 29, 35, 38, 47, 60, 68, 80, 91, \n",
        "     114, 160, 220, 312, 400, 603]  \n",
        "plt.plot(X, Y)"
      ],
      "execution_count": 9,
      "outputs": [
        {
          "output_type": "execute_result",
          "data": {
            "text/plain": [
              "[<matplotlib.lines.Line2D at 0x7ff6aee103c8>]"
            ]
          },
          "metadata": {
            "tags": []
          },
          "execution_count": 9
        },
        {
          "output_type": "display_data",
          "data": {
            "image/png": "[encoded data removed]",
            "text/plain": [
              "<Figure size 432x288 with 1 Axes>"
            ]
          },
          "metadata": {
            "tags": [],
            "needs_background": "light"
          }
        }
      ]
    },
    {
      "cell_type": "code",
      "metadata": {
        "colab_type": "code",
        "id": "NnS0IUcsmtyc",
        "colab": {
          "base_uri": "https://localhost:8080/",
          "height": 612
        },
        "outputId": "3d0c6cb7-7e8c-4111-f4fc-44f0ea9d5a0d"
      },
      "source": [
        "### Para una red de predicción neceso datos con 4 entradas \n",
        "### de 4 días consecutivos y una salida del 5to día\n",
        "Xpred = np.zeros([16, 4])\n",
        "Ypred = np.zeros([16,1])\n",
        "for i in range(16):\n",
        "  Xpred[i,:] = Y[i:i+4]\n",
        "  Ypred[i,:] = Y[i+4]\n",
        "\n",
        "print(\"Mi data set final es:\")\n",
        "print(\"X:\\n\", Xpred)\n",
        "print(\"Y:\\n\", Ypred)"
      ],
      "execution_count": 10,
      "outputs": [
        {
          "output_type": "stream",
          "text": [
            "Mi data set final es:\n",
            "X:\n",
            " [[  2.   3.   8.  12.]\n",
            " [  3.   8.  12.  17.]\n",
            " [  8.  12.  17.  22.]\n",
            " [ 12.  17.  22.  29.]\n",
            " [ 17.  22.  29.  35.]\n",
            " [ 22.  29.  35.  38.]\n",
            " [ 29.  35.  38.  47.]\n",
            " [ 35.  38.  47.  60.]\n",
            " [ 38.  47.  60.  68.]\n",
            " [ 47.  60.  68.  80.]\n",
            " [ 60.  68.  80.  91.]\n",
            " [ 68.  80.  91. 114.]\n",
            " [ 80.  91. 114. 160.]\n",
            " [ 91. 114. 160. 220.]\n",
            " [114. 160. 220. 312.]\n",
            " [160. 220. 312. 400.]]\n",
            "Y:\n",
            " [[ 17.]\n",
            " [ 22.]\n",
            " [ 29.]\n",
            " [ 35.]\n",
            " [ 38.]\n",
            " [ 47.]\n",
            " [ 60.]\n",
            " [ 68.]\n",
            " [ 80.]\n",
            " [ 91.]\n",
            " [114.]\n",
            " [160.]\n",
            " [220.]\n",
            " [312.]\n",
            " [400.]\n",
            " [603.]]\n"
          ],
          "name": "stdout"
        }
      ]
    },
    {
      "cell_type": "markdown",
      "metadata": {
        "colab_type": "text",
        "id": "aRwqzhSFo8En"
      },
      "source": [
        "## Inciso b)"
      ]
    },
    {
      "cell_type": "markdown",
      "metadata": {
        "colab_type": "text",
        "id": "35ToKZAjpNGg"
      },
      "source": [
        "Para generar los datos de entrenamiento, validación y test debo dividir mi dataset en 3. En general, se toma la mayor parte de los datos para el training set y el resto se divide en validation y test set. Una buena elección sería el 80% para training (16 datos en este caso), 10% para validation (2 datos) y 10% para test (2 datos). La elección de estos datos debe ser aleatoria."
      ]
    },
    {
      "cell_type": "markdown",
      "metadata": {
        "colab_type": "text",
        "id": "VdH5ZygOpt-E"
      },
      "source": [
        "## Inciso c)"
      ]
    },
    {
      "cell_type": "markdown",
      "metadata": {
        "colab_type": "text",
        "id": "lT35ssXfp3ML"
      },
      "source": [
        "Para el error de predicción seleccionaría el error cuadrático medio o la desviación media absoluta. El error cuadrático medio tiene la ventaja de que prioriza los errores más altos y la desviación media absoluta me devuelve el error en las unidades de la salida. Una posible solución para poder obtener estas dos ventajas es utilizar la raiz cuadrada del error cuadrático medio como error."
      ]
    },
    {
      "cell_type": "markdown",
      "metadata": {
        "colab_type": "text",
        "id": "mORyzih2qlEI"
      },
      "source": [
        "## Inciso d)"
      ]
    },
    {
      "cell_type": "markdown",
      "metadata": {
        "colab_type": "text",
        "id": "CZ3kSl-hqnsc"
      },
      "source": [
        "A partir del día 3 los errores van a ser cada vez más grande debido a que a medida que avanza el análisis estoy prediciendo valores sin utilizar los verdaderos valores, estoy utilizando los valores predichos para predecir valores futuros."
      ]
    }
  ]
}