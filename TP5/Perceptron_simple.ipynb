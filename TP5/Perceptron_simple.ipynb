{
  "nbformat": 4,
  "nbformat_minor": 0,
  "metadata": {
    "colab": {
      "name": "Perceptron - simple.ipynb",
      "provenance": [],
      "collapsed_sections": []
    },
    "kernelspec": {
      "name": "python3",
      "display_name": "Python 3"
    }
  },
  "cells": [
    {
      "cell_type": "code",
      "metadata": {
        "id": "ROmSnIg9-eAC",
        "colab_type": "code",
        "colab": {}
      },
      "source": [
        "import numpy as np\n",
        "import matplotlib.pyplot as plt"
      ],
      "execution_count": 1,
      "outputs": []
    },
    {
      "cell_type": "code",
      "metadata": {
        "id": "RRqwpQf5CubT",
        "colab_type": "code",
        "colab": {
          "base_uri": "https://localhost:8080/",
          "height": 68
        },
        "outputId": "c6812f1a-a9e0-495d-cd6c-d76e0ff919c7"
      },
      "source": [
        "X = np.array([[0, 0, 1], [0, 1, 1], [1, 0, 1], [1, 1, 1]]).T\n",
        "print(\"La forma de X es\", X.shape)\n",
        "Y = np.array([1, 1, -1, -1]).reshape(-1, 1)\n",
        "#Y = np.array([1, 1, 0, 0]).reshape(-1, 1)\n",
        "print(\"La forma de Y es\", Y.shape)\n",
        "W = np.array([0, 0, 0]).reshape(-1, 1).T\n",
        "print(\"La forma de W es\", W.shape)\n",
        "Waux = np.array([1, 1, 1]).reshape(-1, 1).T\n",
        "lr = 0.5"
      ],
      "execution_count": 2,
      "outputs": [
        {
          "output_type": "stream",
          "text": [
            "La forma de X es (3, 4)\n",
            "La forma de Y es (4, 1)\n",
            "La forma de W es (1, 3)\n"
          ],
          "name": "stdout"
        }
      ]
    },
    {
      "cell_type": "code",
      "metadata": {
        "id": "ANnG5vFf_A1Q",
        "colab_type": "code",
        "colab": {
          "base_uri": "https://localhost:8080/",
          "height": 85
        },
        "outputId": "cc14725a-2cbb-4401-add7-d04fd7b1ca11"
      },
      "source": [
        "print(\"Iteraciones:\")\n",
        "#for i in range(10):\n",
        "while (W != Waux).any():\n",
        "#while (abs(W - Waux) < 0.001).all() < 0.001:\n",
        "  Waux = W\n",
        "  dW = 0\n",
        "  for j in range(Y.shape[0]):\n",
        "    v = np.dot(W, X[:,j].reshape(-1,1))\n",
        "    y = np.sign(v)\n",
        "    #y = (np.sign(v) + 1) / 2\n",
        "    e = lr * (Y[j] - y)\n",
        "    W = W + e * X[:,j].reshape(-1,1).T       #para online\n",
        "    #dW = dW + e * X[:,j].reshape(-1,1).T     #para batch\n",
        "  #W = W + dW/(Y.shape[0])                    #para batch\n",
        "  print(W)"
      ],
      "execution_count": 3,
      "outputs": [
        {
          "output_type": "stream",
          "text": [
            "Iteraciones:\n",
            "[[-1.   0.  -0.5]]\n",
            "[[-1.   0.   0.5]]\n",
            "[[-1.   0.   0.5]]\n"
          ],
          "name": "stdout"
        }
      ]
    },
    {
      "cell_type": "code",
      "metadata": {
        "id": "N0pn4fhV081z",
        "colab_type": "code",
        "colab": {
          "base_uri": "https://localhost:8080/",
          "height": 269
        },
        "outputId": "61e935d9-fd43-4093-c8ed-35126853882b"
      },
      "source": [
        "ejeX = np.arange(0, 1, 0.01).reshape(-1, 1)\n",
        "if (W[0][1]!=0):\n",
        "  ejeY = (-W[0][0] * ejeX - W[0][2])/(W[0][1])\n",
        "else:\n",
        "  denominador = pow(10, -3)\n",
        "  ejeY = (-W[0][0] * ejeX - W[0][2])/(denominador)\n",
        "\n",
        "plt.plot(ejeX, ejeY)\n",
        "plt.plot(0, 0,'o-', color='b')\n",
        "plt.plot(0, 1,'o-', color='b')\n",
        "plt.plot(1, 0,'o-', color='r')\n",
        "plt.plot(1, 1,'o-', color='r')\n",
        "plt.ylim(-1, 2)\n",
        "\n",
        "plt.show()"
      ],
      "execution_count": 4,
      "outputs": [
        {
          "output_type": "display_data",
          "data": {
            "image/png": "[encoded data removed]",
            "text/plain": [
              "<Figure size 432x288 with 1 Axes>"
            ]
          },
          "metadata": {
            "tags": [],
            "needs_background": "light"
          }
        }
      ]
    }
  ]
}