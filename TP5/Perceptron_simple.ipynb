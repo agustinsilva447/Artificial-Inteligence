{
  "nbformat": 4,
  "nbformat_minor": 0,
  "metadata": {
    "colab": {
      "name": "Perceptron - simple.ipynb",
      "provenance": [],
      "collapsed_sections": []
    },
    "kernelspec": {
      "name": "python3",
      "display_name": "Python 3"
    }
  },
  "cells": [
    {
      "cell_type": "code",
      "metadata": {
        "id": "ROmSnIg9-eAC",
        "colab_type": "code",
        "colab": {}
      },
      "source": [
        "import numpy as np"
      ],
      "execution_count": null,
      "outputs": []
    },
    {
      "cell_type": "code",
      "metadata": {
        "id": "RRqwpQf5CubT",
        "colab_type": "code",
        "colab": {
          "base_uri": "https://localhost:8080/",
          "height": 408
        },
        "outputId": "801566b2-81e0-4da5-a09b-0e7d6dabefee"
      },
      "source": [
        "X = np.array([[0, 0, 1], [0, 1, 1], [1, 0, 1], [1, 1, 1]]).T\n",
        "print(\"La forma de X es\", X.shape)\n",
        "Y = np.array([1, 1, -1, -1]).reshape(-1, 1)\n",
        "print(\"La forma de Y es\", Y.shape)\n",
        "W = np.array([0, 0, 0]).reshape(-1, 1).T\n",
        "print(\"La forma de W es\", W.shape)\n",
        "Waux = np.array([1, 1, 1]).reshape(-1, 1).T\n",
        "lr = 0.1\n",
        "\n",
        "print(\"\\nIteraciones:\")\n",
        "while (W != Waux).any():\n",
        "  Waux = W\n",
        "  for j in range(Y.shape[0]):\n",
        "    v = np.dot(W, X[:,j].reshape(-1,1))\n",
        "    y = np.sign(v)\n",
        "    e = lr * (Y[j] - y)\n",
        "    W = W + e * X[:,j].reshape(-1,1).T\n",
        "    #print(\"X:\", X[:,j].reshape(-1,1))\n",
        "    #print(\"Label:\",Y[j],\". Output:\", y,\". Error:\", e)\n",
        "    print(W)\n",
        "  print(\"\\n\")"
      ],
      "execution_count": null,
      "outputs": [
        {
          "output_type": "stream",
          "text": [
            "La forma de X es (3, 4)\n",
            "La forma de Y es (4, 1)\n",
            "La forma de W es (1, 3)\n",
            "\n",
            "Iteraciones:\n",
            "[[0.  0.  0.1]]\n",
            "[[0.  0.  0.1]]\n",
            "[[-0.2  0.  -0.1]]\n",
            "[[-0.2  0.  -0.1]]\n",
            "\n",
            "\n",
            "[[-0.2  0.   0.1]]\n",
            "[[-0.2  0.   0.1]]\n",
            "[[-0.2  0.   0.1]]\n",
            "[[-0.2  0.   0.1]]\n",
            "\n",
            "\n",
            "[[-0.2  0.   0.1]]\n",
            "[[-0.2  0.   0.1]]\n",
            "[[-0.2  0.   0.1]]\n",
            "[[-0.2  0.   0.1]]\n",
            "\n",
            "\n"
          ],
          "name": "stdout"
        }
      ]
    },
    {
      "cell_type": "code",
      "metadata": {
        "id": "Wx_okG5A5M0b",
        "colab_type": "code",
        "colab": {}
      },
      "source": [
        ""
      ],
      "execution_count": null,
      "outputs": []
    }
  ]
}