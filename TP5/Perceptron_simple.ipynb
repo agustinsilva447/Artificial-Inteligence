{
 "cells": [
  {
   "cell_type": "code",
   "execution_count": 1,
   "metadata": {
    "colab": {},
    "colab_type": "code",
    "id": "ROmSnIg9-eAC"
   },
   "outputs": [],
   "source": [
    "import numpy as np\n",
    "import matplotlib.pyplot as plt"
   ]
  },
  {
   "cell_type": "code",
   "execution_count": 2,
   "metadata": {
    "colab": {
     "base_uri": "https://localhost:8080/",
     "height": 68
    },
    "colab_type": "code",
    "id": "RRqwpQf5CubT",
    "outputId": "c6812f1a-a9e0-495d-cd6c-d76e0ff919c7"
   },
   "outputs": [
    {
     "name": "stdout",
     "output_type": "stream",
     "text": [
      "La forma de X es (3, 4)\n",
      "La forma de Y es (4, 1)\n",
      "La forma de W es (1, 3)\n"
     ]
    }
   ],
   "source": [
    "X = np.array([[0, 0, 1], [0, 1, 1], [1, 0, 1], [1, 1, 1]]).T\n",
    "print(\"La forma de X es\", X.shape)\n",
    "Y = np.array([1, 1, -1, -1]).reshape(-1, 1)\n",
    "#Y = np.array([1, 1, 0, 0]).reshape(-1, 1)\n",
    "print(\"La forma de Y es\", Y.shape)\n",
    "W = np.array([0, 0, 0]).reshape(-1, 1).T\n",
    "print(\"La forma de W es\", W.shape)\n",
    "Waux = np.array([1, 1, 1]).reshape(-1, 1).T\n",
    "lr = 0.5"
   ]
  },
  {
   "cell_type": "code",
   "execution_count": 3,
   "metadata": {
    "colab": {
     "base_uri": "https://localhost:8080/",
     "height": 85
    },
    "colab_type": "code",
    "id": "ANnG5vFf_A1Q",
    "outputId": "cc14725a-2cbb-4401-add7-d04fd7b1ca11"
   },
   "outputs": [
    {
     "name": "stdout",
     "output_type": "stream",
     "text": [
      "Iteraciones:\n",
      "[[0 0 0]]\n",
      "[[-1.   0.  -0.5]]\n",
      "[[-1.   0.   0.5]]\n",
      "[[-1.   0.   0.5]]\n"
     ]
    }
   ],
   "source": [
    "print(\"Iteraciones:\")\n",
    "\n",
    "#for i in range(10):\n",
    "while (W != Waux).any():\n",
    "  print(W)\n",
    "  Waux = W\n",
    "  dW = 0\n",
    "  for j in range(Y.shape[0]):\n",
    "    v = np.dot(W, X[:,j].reshape(-1,1))\n",
    "    y = np.sign(v)\n",
    "    #y = (np.sign(v) + 1) / 2\n",
    "    e = lr * (Y[j] - y)\n",
    "    W = W + e * X[:,j].reshape(-1,1).T       #para online\n",
    "    #dW = dW + e * X[:,j].reshape(-1,1).T     #para batch\n",
    "  #W = W + dW/(Y.shape[0])                    #para batch\n",
    "print(W)"
   ]
  },
  {
   "cell_type": "code",
   "execution_count": 4,
   "metadata": {
    "colab": {
     "base_uri": "https://localhost:8080/",
     "height": 269
    },
    "colab_type": "code",
    "id": "N0pn4fhV081z",
    "outputId": "61e935d9-fd43-4093-c8ed-35126853882b"
   },
   "outputs": [
    {
     "data": {
      "image/png": "[encoded data removed]",
      "text/plain": [
       "<Figure size 432x288 with 1 Axes>"
      ]
     },
     "metadata": {
      "needs_background": "light"
     },
     "output_type": "display_data"
    }
   ],
   "source": [
    "ejeX = np.arange(0, 1, 0.01).reshape(-1, 1)\n",
    "if (W[0][1]!=0):\n",
    "  ejeY = (-W[0][0] * ejeX - W[0][2])/(W[0][1])\n",
    "else:\n",
    "  denominador = pow(10, -3)\n",
    "  ejeY = (-W[0][0] * ejeX - W[0][2])/(denominador)\n",
    "\n",
    "plt.plot(ejeX, ejeY)\n",
    "plt.plot(0, 0,'o-', color='b')\n",
    "plt.plot(0, 1,'o-', color='b')\n",
    "plt.plot(1, 0,'o-', color='r')\n",
    "plt.plot(1, 1,'o-', color='r')\n",
    "plt.ylim(-1, 2)\n",
    "\n",
    "plt.show()"
   ]
  },
  {
   "cell_type": "code",
   "execution_count": null,
   "metadata": {},
   "outputs": [],
   "source": []
  }
 ],
 "metadata": {
  "colab": {
   "collapsed_sections": [],
   "name": "Perceptron - simple.ipynb",
   "provenance": []
  },
  "kernelspec": {
   "display_name": "Python 3",
   "language": "python",
   "name": "python3"
  },
  "language_info": {
   "codemirror_mode": {
    "name": "ipython",
    "version": 3
   },
   "file_extension": ".py",
   "mimetype": "text/x-python",
   "name": "python",
   "nbconvert_exporter": "python",
   "pygments_lexer": "ipython3",
   "version": "3.8.3"
  }
 },
 "nbformat": 4,
 "nbformat_minor": 1
}
