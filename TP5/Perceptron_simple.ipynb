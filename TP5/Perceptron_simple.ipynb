{
  "nbformat": 4,
  "nbformat_minor": 0,
  "metadata": {
    "colab": {
      "name": "Perceptron - simple.ipynb",
      "provenance": [],
      "collapsed_sections": []
    },
    "kernelspec": {
      "name": "python3",
      "display_name": "Python 3"
    }
  },
  "cells": [
    {
      "cell_type": "code",
      "metadata": {
        "id": "ROmSnIg9-eAC",
        "colab_type": "code",
        "colab": {}
      },
      "source": [
        "import numpy as np\n",
        "import matplotlib.pyplot as plt"
      ],
      "execution_count": 1,
      "outputs": []
    },
    {
      "cell_type": "code",
      "metadata": {
        "id": "RRqwpQf5CubT",
        "colab_type": "code",
        "colab": {
          "base_uri": "https://localhost:8080/",
          "height": 187
        },
        "outputId": "945af44f-74f2-4e3b-a2e1-e1ad6ec93089"
      },
      "source": [
        "X = np.array([[0, 0, 1], [0, 1, 1], [1, 0, 1], [1, 1, 1]]).T\n",
        "print(\"La forma de X es\", X.shape)\n",
        "Y = np.array([1, 1, -1, -1]).reshape(-1, 1)\n",
        "#Y = np.array([1, 1, 0, 0]).reshape(-1, 1)\n",
        "print(\"La forma de Y es\", Y.shape)\n",
        "W = np.array([0, 0, 0]).reshape(-1, 1).T\n",
        "print(\"La forma de W es\", W.shape)\n",
        "Waux = np.array([1, 1, 1]).reshape(-1, 1).T\n",
        "lr = 0.5\n",
        "\n",
        "print(\"\\nIteraciones:\")\n",
        "#for i in range(10):\n",
        "while (W != Waux).any():\n",
        "#while (abs(W - Waux) < 0.001).all() < 0.001:\n",
        "  Waux = W\n",
        "  dW = 0\n",
        "  for j in range(Y.shape[0]):\n",
        "    v = np.dot(W, X[:,j].reshape(-1,1))\n",
        "    y = np.sign(v)\n",
        "    #y = (np.sign(v) + 1) / 2\n",
        "    e = lr * (Y[j] - y)\n",
        "    #W = W + e * X[:,j].reshape(-1,1).T       #para online\n",
        "    dW = dW + e * X[:,j].reshape(-1,1).T     #para batch\n",
        "  W = W + dW/(Y.shape[0])                    #para batch\n",
        "  print(W)"
      ],
      "execution_count": 7,
      "outputs": [
        {
          "output_type": "stream",
          "text": [
            "La forma de X es (3, 4)\n",
            "La forma de Y es (4, 1)\n",
            "La forma de W es (1, 3)\n",
            "\n",
            "Iteraciones:\n",
            "[[-0.25  0.    0.  ]]\n",
            "[[-0.25   0.125  0.25 ]]\n",
            "[[-0.625 -0.125 -0.125]]\n",
            "[[-0.625  0.125  0.375]]\n",
            "[[-0.625  0.125  0.375]]\n"
          ],
          "name": "stdout"
        }
      ]
    },
    {
      "cell_type": "code",
      "metadata": {
        "id": "N0pn4fhV081z",
        "colab_type": "code",
        "colab": {
          "base_uri": "https://localhost:8080/",
          "height": 286
        },
        "outputId": "98e8f25c-f20a-4fe3-b51f-c698cf72bff3"
      },
      "source": [
        "ejeX = np.arange(0, 1, 0.01)\n",
        "if (W[0][1]!=0):\n",
        "  ejeY = (-W[0][0] * ejeX - W[0][2])/(W[0][1])\n",
        "else:\n",
        "  W[0][1] = 0.001\n",
        "  ejeY = (-W[0][0] * ejeX - W[0][2])/(W[0][1])\n",
        "\n",
        "plt.plot(ejeX, ejeY)\n",
        "plt.plot(0, 0,'o-', color='b')\n",
        "plt.plot(0, 1,'o-', color='b')\n",
        "plt.plot(1, 0,'o-', color='r')\n",
        "plt.plot(1, 1,'o-', color='r')\n",
        "plt.ylim(-1, 2)"
      ],
      "execution_count": 8,
      "outputs": [
        {
          "output_type": "execute_result",
          "data": {
            "text/plain": [
              "(-1.0, 2.0)"
            ]
          },
          "metadata": {
            "tags": []
          },
          "execution_count": 8
        },
        {
          "output_type": "display_data",
          "data": {
            "image/png": "[encoded data removed]",
            "text/plain": [
              "<Figure size 432x288 with 1 Axes>"
            ]
          },
          "metadata": {
            "tags": [],
            "needs_background": "light"
          }
        }
      ]
    },
    {
      "cell_type": "code",
      "metadata": {
        "id": "N0TNpfhf4xwf",
        "colab_type": "code",
        "colab": {}
      },
      "source": [
        ""
      ],
      "execution_count": null,
      "outputs": []
    }
  ]
}