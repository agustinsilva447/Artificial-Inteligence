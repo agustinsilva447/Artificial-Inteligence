{
 "cells": [
  {
   "cell_type": "code",
   "execution_count": 6,
   "metadata": {
    "colab": {
     "base_uri": "https://localhost:8080/",
     "height": 34
    },
    "colab_type": "code",
    "id": "6HFV3WjvBt_P",
    "outputId": "e427801d-0bce-4030-cefa-4fb8614244a7"
   },
   "outputs": [
    {
     "name": "stdout",
     "output_type": "stream",
     "text": [
      "Requirement already satisfied: minisom in c:\\users\\agustin\\appdata\\local\\programs\\python\\python38\\lib\\site-packages (2.2.5)\n"
     ]
    }
   ],
   "source": [
    "!pip install minisom"
   ]
  },
  {
   "cell_type": "code",
   "execution_count": 7,
   "metadata": {
    "colab": {},
    "colab_type": "code",
    "id": "iIKUDLBKJFa9"
   },
   "outputs": [],
   "source": [
    "from minisom import MiniSom\n",
    "import numpy as np\n",
    "import matplotlib.pyplot as plt\n",
    "from matplotlib.gridspec import GridSpec"
   ]
  },
  {
   "cell_type": "code",
   "execution_count": 8,
   "metadata": {
    "colab": {
     "base_uri": "https://localhost:8080/",
     "height": 51
    },
    "colab_type": "code",
    "id": "RV5Ir0hQJHDd",
    "outputId": "5a3761cb-d570-429a-b0d6-3bd2c0055752"
   },
   "outputs": [],
   "source": [
    "data = np.genfromtxt('iris_som.csv', delimiter=',', usecols=(0, 1, 2, 3))\n",
    "data = data - np.mean(data, axis=0)\n",
    "som = MiniSom(10, 10, 4, \n",
    "              sigma = 1.0, \n",
    "              learning_rate = 0.005, \n",
    "              activation_distance = 'euclidean', \n",
    "              topology = 'hexagonal',\n",
    "              neighborhood_function='gaussian')\n",
    "som.train_batch(data, 100000, verbose=False) "
   ]
  },
  {
   "cell_type": "code",
   "execution_count": 9,
   "metadata": {
    "colab": {
     "base_uri": "https://localhost:8080/",
     "height": 333
    },
    "colab_type": "code",
    "id": "Xdpae6FOJ5ZD",
    "outputId": "b78c58aa-6810-4467-b595-988761781866"
   },
   "outputs": [
    {
     "name": "stdout",
     "output_type": "stream",
     "text": [
      "Setosa: Azul. \n",
      "Versicolor: Naranja. \n",
      "Virginica: Verde. \n",
      "\n"
     ]
    },
    {
     "data": {
      "image/png": "[encoded data removed]",
      "text/plain": [
       "<Figure size 432x288 with 1 Axes>"
      ]
     },
     "metadata": {
      "needs_background": "light"
     },
     "output_type": "display_data"
    }
   ],
   "source": [
    "target = np.genfromtxt('iris_som.csv', delimiter=',', usecols=(4), dtype=str)\n",
    "t = np.zeros(len(target), dtype=int)\n",
    "t[target == 'setosa'] = 0\n",
    "t[target == 'versicolor'] = 1\n",
    "t[target == 'virginica'] = 2\n",
    "\n",
    "markers = ['o', 's', 'D']\n",
    "colors = ['C0', 'C1', 'C2']\n",
    "for cnt, xx in enumerate(data):\n",
    "    w = som.winner(xx) \n",
    "    plt.plot(w[0] + 0.5, \n",
    "             w[1] + 0.5, \n",
    "             markers[t[cnt]], \n",
    "             markerfacecolor = 'None',\n",
    "             markeredgecolor = colors[t[cnt]], \n",
    "             markersize = 12, \n",
    "             markeredgewidth=2)\n",
    "\n",
    "print(\"Setosa: Azul. \\nVersicolor: Naranja. \\nVirginica: Verde. \\n\")\n",
    "plt.show()"
   ]
  },
  {
   "cell_type": "code",
   "execution_count": 10,
   "metadata": {
    "colab": {
     "base_uri": "https://localhost:8080/",
     "height": 269
    },
    "colab_type": "code",
    "id": "0V0X5PjBJKaB",
    "outputId": "f516cb18-c633-4c3b-c076-3bdddcb4099a"
   },
   "outputs": [
    {
     "data": {
      "image/png": "[encoded data removed]",
      "text/plain": [
       "<Figure size 432x288 with 2 Axes>"
      ]
     },
     "metadata": {
      "needs_background": "light"
     },
     "output_type": "display_data"
    }
   ],
   "source": [
    "frequencies = som.activation_response(data)\n",
    "plt.pcolor(frequencies.T, cmap='Blues') \n",
    "plt.colorbar()\n",
    "plt.show()"
   ]
  }
 ],
 "metadata": {
  "colab": {
   "collapsed_sections": [],
   "name": "AI_guia5_ejercicio13.ipynb",
   "provenance": []
  },
  "kernelspec": {
   "display_name": "Python 3",
   "language": "python",
   "name": "python3"
  },
  "language_info": {
   "codemirror_mode": {
    "name": "ipython",
    "version": 3
   },
   "file_extension": ".py",
   "mimetype": "text/x-python",
   "name": "python",
   "nbconvert_exporter": "python",
   "pygments_lexer": "ipython3",
   "version": "3.8.2"
  }
 },
 "nbformat": 4,
 "nbformat_minor": 1
}
