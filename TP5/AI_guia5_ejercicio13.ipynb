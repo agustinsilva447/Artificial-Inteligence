{
 "cells": [
  {
   "cell_type": "markdown",
   "metadata": {},
   "source": [
    "En primer lugar importamos las librerías necesarias"
   ]
  },
  {
   "cell_type": "code",
   "execution_count": 4,
   "metadata": {
    "colab": {},
    "colab_type": "code",
    "id": "b9YJdI6Dwc0X"
   },
   "outputs": [],
   "source": [
    "import tensorflow as tf\n",
    "import numpy as np\n",
    "import matplotlib.pyplot as plt\n",
    "import pandas as pd"
   ]
  },
  {
   "cell_type": "markdown",
   "metadata": {},
   "source": [
    "Esto es una clase que encontré en github hecha en tensorflow para utilizar el algoritmo SOM."
   ]
  },
  {
   "cell_type": "code",
   "execution_count": 3,
   "metadata": {
    "colab": {},
    "colab_type": "code",
    "id": "H4otayzXwfV7"
   },
   "outputs": [],
   "source": [
    "class WTU(object):\n",
    "    \n",
    "    def __init__(self, m, n, dim, num_iterations, eta = 0.5, sigma = None):\n",
    "        self._m = m\n",
    "        self._n = n\n",
    "        self._neighbourhood = []\n",
    "        self._topography = []\n",
    "        self._num_iterations = int(num_iterations) \n",
    "        self._learned = False\n",
    "        self.dim = dim\n",
    "        self.eta = float(eta)\n",
    "        if sigma is None:\n",
    "            sigma = max(m,n)/2.0\n",
    "        else:\n",
    "            sigma = float(sigma)\n",
    "        self.sigma = sigma\n",
    "        print('Network created with dimensions',m,n)\n",
    "        self._W = tf.random.normal([m*n, dim], seed = 0)\n",
    "        self._topography = np.array(list(self._neuron_location(m, n)))\n",
    "\n",
    "    def training(self,x, i):\n",
    "            m = self._m\n",
    "            n= self._n \n",
    "            d = tf.sqrt(tf.reduce_sum(tf.pow(self._W - tf.stack([x for i in range(m*n)]),2),1))\n",
    "            self.WTU_idx = tf.argmin(d,0)\n",
    "            slice_start = tf.pad(tf.reshape(self.WTU_idx, [1]),np.array([[0,1]]))\n",
    "            self.WTU_loc = tf.reshape(tf.slice(self._topography, slice_start,[1,2]), [2])\n",
    "            learning_rate = 1 - i/self._num_iterations\n",
    "            _eta_new = self.eta * learning_rate\n",
    "            _sigma_new = self.sigma * learning_rate\n",
    "            distance_square = tf.reduce_sum(tf.pow(tf.subtract(\n",
    "                self._topography, tf.stack([self.WTU_loc for i in range(m * n)])), 2), 1)\n",
    "            neighbourhood_func = tf.exp(tf.negative(tf.math.divide(tf.cast(\n",
    "                distance_square, \"float32\"), tf.pow(_sigma_new, 2))))\n",
    "            eta_into_Gamma = tf.multiply(_eta_new, neighbourhood_func)\n",
    "            weight_multiplier = tf.stack([tf.tile(tf.slice(\n",
    "                eta_into_Gamma, np.array([i]), np.array([1])), [self.dim])\n",
    "                for i in range(m * n)])\n",
    "            delta_W = tf.multiply(weight_multiplier,\n",
    "                tf.subtract(tf.stack([x for i in range(m * n)]),self._W))\n",
    "            new_W = self._W + delta_W\n",
    "            self._W = new_W\n",
    "\n",
    "    def fit(self, X):\n",
    "        for i in range(self._num_iterations):\n",
    "            for x in X:\n",
    "                 self.training(x,i)\n",
    "        centroid_grid = [[] for i in range(self._m)]\n",
    "        self._Wts = list(self._W)\n",
    "        self._locations = list(self._topography)\n",
    "        for i, loc in enumerate(self._locations):\n",
    "            centroid_grid[loc[0]].append(self._Wts[i])\n",
    "        self._centroid_grid = centroid_grid\n",
    "        self._learned = True\n",
    "    \n",
    "    def winner(self, x):\n",
    "        idx = self.WTU_idx,self.WTU_loc\n",
    "        return idx\n",
    "             \n",
    "    def _neuron_location(self,m,n):\n",
    "        for i in range(m):\n",
    "            for j in range(n):\n",
    "                yield np.array([i,j])\n",
    "                \n",
    "    def get_centroids(self):\n",
    "        if not self._learned:\n",
    "            raise ValueError(\"SOM not trained yet\")\n",
    "        return self._centroid_grid\n",
    "\n",
    "    def map_vects(self, X):\n",
    "        if not self._learned:\n",
    "            raise ValueError(\"SOM not trained yet\")\n",
    "        to_return = []\n",
    "        for vect in X:\n",
    "            min_index = min([i for i in range(len(self._Wts))],\n",
    "                            key=lambda x: np.linalg.norm(vect - self._Wts[x]))\n",
    "            to_return.append(self._locations[min_index])\n",
    "        return to_return"
   ]
  },
  {
   "cell_type": "markdown",
   "metadata": {},
   "source": [
    "Con esta función simplemente normalizaremos los datos provenientes del archivo Iris.csv que importaremos en la siguiente celda."
   ]
  },
  {
   "cell_type": "code",
   "execution_count": 5,
   "metadata": {
    "colab": {},
    "colab_type": "code",
    "id": "dIWXoQBCwnTA"
   },
   "outputs": [],
   "source": [
    "def normalize(df):\n",
    "    result = df.copy()\n",
    "    for feature_name in df.columns:\n",
    "        max_value = df[feature_name].max()\n",
    "        min_value = df[feature_name].min()\n",
    "        result[feature_name] = (df[feature_name] - min_value) / (max_value - min_value)\n",
    "    return result.astype(np.float32)"
   ]
  },
  {
   "cell_type": "markdown",
   "metadata": {},
   "source": [
    "Aquí importamos la librería Iris.csv descargada de Kaggle. Luego dividimos los datos entre los valores que enviaremos al algoritmo (sin las labels) y las labels por separado que luego usaremos para graficar.\n",
    "\n",
    "Luego crearemos un objeto SOM y lo definiremos con un mapa de 30x30, le asignaremos 400 iteraciones y un sigma (para las gauseanas) igual a 10."
   ]
  },
  {
   "cell_type": "code",
   "execution_count": 5,
   "metadata": {
    "colab": {
     "base_uri": "https://localhost:8080/",
     "height": 34
    },
    "colab_type": "code",
    "id": "ueibsKuQisMA",
    "outputId": "deece591-75f7-453d-b4cb-45034dc67b77"
   },
   "outputs": [
    {
     "name": "stdout",
     "output_type": "stream",
     "text": [
      "Network created with dimensions 30 30\n"
     ]
    }
   ],
   "source": [
    "df = pd.read_csv('Iris.csv') \n",
    "data = normalize(df[['SepalLengthCm', 'SepalWidthCm', 'PetalLengthCm', 'PetalWidthCm']]).values\n",
    "name = df['Species'].values\n",
    "n_dim = 4\n",
    "\n",
    "som = WTU(30, 30, n_dim, 400, sigma=10.0)\n",
    "som.fit(data)"
   ]
  },
  {
   "cell_type": "markdown",
   "metadata": {},
   "source": [
    "Finalmente extraeremos el mapa generado anteriormente con el objeto y lo graficaremos. También imprimiremos algunas etiquetas (no todas) sobre el mapa del mapa graficado para poder ver si las etiquetas se distribuyeron en función de la las posiciones en el mapa."
   ]
  },
  {
   "cell_type": "code",
   "execution_count": 6,
   "metadata": {
    "colab": {
     "base_uri": "https://localhost:8080/",
     "height": 281
    },
    "colab_type": "code",
    "id": "u99YvM7MklDL",
    "outputId": "a401a2b8-af0b-4f5d-a562-931b85c6af7f"
   },
   "outputs": [
    {
     "data": {
      "image/png": "[encoded data removed]",
      "text/plain": [
       "<Figure size 432x288 with 1 Axes>"
      ]
     },
     "metadata": {
      "needs_background": "light",
      "tags": []
     },
     "output_type": "display_data"
    }
   ],
   "source": [
    "image_grid = som.get_centroids()\n",
    "mapped = som.map_vects(data)\n",
    "plt.imshow(image_grid)\n",
    "plt.title('Iris Grid SOM')\n",
    "c = 0\n",
    "for i, m in enumerate(mapped):\n",
    "    c = c+1\n",
    "    if c % 15 == 0:\n",
    "      plt.text(m[1], m[0], name[i][5:], ha='center', va='center', bbox=dict(facecolor='white', alpha=0.5, lw=0))"
   ]
  },
  {
   "cell_type": "markdown",
   "metadata": {},
   "source": [
    "Podemos observar cómo los datos con etiqueta 'setosa' se ubican en la parte superior del mapa. Los datos con etiqueta 'virginica' tienden a ubicarse en el otro extremo del mapa y finalmente los datos con etiqueta 'versicolor' tienen a ubicarse en posiciones intermedias."
   ]
  }
 ],
 "metadata": {
  "accelerator": "GPU",
  "colab": {
   "collapsed_sections": [],
   "name": "AI_guia5_ejercicio13_tf.ipynb",
   "provenance": []
  },
  "kernelspec": {
   "display_name": "Python 3",
   "language": "python",
   "name": "python3"
  },
  "language_info": {
   "codemirror_mode": {
    "name": "ipython",
    "version": 3
   },
   "file_extension": ".py",
   "mimetype": "text/x-python",
   "name": "python",
   "nbconvert_exporter": "python",
   "pygments_lexer": "ipython3",
   "version": "3.8.2"
  }
 },
 "nbformat": 4,
 "nbformat_minor": 1
}
