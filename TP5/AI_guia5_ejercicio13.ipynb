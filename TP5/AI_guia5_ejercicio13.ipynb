{
  "nbformat": 4,
  "nbformat_minor": 0,
  "metadata": {
    "colab": {
      "name": "AI_guia5_ejercicio13.ipynb",
      "provenance": [],
      "collapsed_sections": []
    },
    "kernelspec": {
      "name": "python3",
      "display_name": "Python 3"
    }
  },
  "cells": [
    {
      "cell_type": "code",
      "metadata": {
        "id": "6HFV3WjvBt_P",
        "colab_type": "code",
        "colab": {
          "base_uri": "https://localhost:8080/",
          "height": 34
        },
        "outputId": "e427801d-0bce-4030-cefa-4fb8614244a7"
      },
      "source": [
        "!pip install minisom"
      ],
      "execution_count": 1,
      "outputs": [
        {
          "output_type": "stream",
          "text": [
            "Requirement already satisfied: minisom in /usr/local/lib/python3.6/dist-packages (2.2.5)\n"
          ],
          "name": "stdout"
        }
      ]
    },
    {
      "cell_type": "code",
      "metadata": {
        "id": "iIKUDLBKJFa9",
        "colab_type": "code",
        "colab": {}
      },
      "source": [
        "from minisom import MiniSom\n",
        "import numpy as np\n",
        "import matplotlib.pyplot as plt\n",
        "from matplotlib.gridspec import GridSpec"
      ],
      "execution_count": 0,
      "outputs": []
    },
    {
      "cell_type": "code",
      "metadata": {
        "id": "RV5Ir0hQJHDd",
        "colab_type": "code",
        "colab": {
          "base_uri": "https://localhost:8080/",
          "height": 51
        },
        "outputId": "5a3761cb-d570-429a-b0d6-3bd2c0055752"
      },
      "source": [
        "data = np.genfromtxt('iris.csv', delimiter=',', usecols=(0, 1, 2, 3))\n",
        "data = data - np.mean(data, axis=0)\n",
        "som = MiniSom(10, 10, 4, \n",
        "              sigma = 1.0, \n",
        "              learning_rate = 0.005, \n",
        "              activation_distance = 'euclidean', \n",
        "              topology = 'hexagonal',\n",
        "              neighborhood_function='gaussian')\n",
        "som.train_batch(data, 100000, verbose=True) "
      ],
      "execution_count": 3,
      "outputs": [
        {
          "output_type": "stream",
          "text": [
            " [ 100000 / 100000 ] 100% - 0:00:00 left \n",
            " quantization error: 0.22019225821693345\n"
          ],
          "name": "stdout"
        }
      ]
    },
    {
      "cell_type": "code",
      "metadata": {
        "id": "Xdpae6FOJ5ZD",
        "colab_type": "code",
        "colab": {
          "base_uri": "https://localhost:8080/",
          "height": 333
        },
        "outputId": "b78c58aa-6810-4467-b595-988761781866"
      },
      "source": [
        "target = np.genfromtxt('iris.csv', delimiter=',', usecols=(4), dtype=str)\n",
        "t = np.zeros(len(target), dtype=int)\n",
        "t[target == 'setosa'] = 0\n",
        "t[target == 'versicolor'] = 1\n",
        "t[target == 'virginica'] = 2\n",
        "\n",
        "markers = ['o', 's', 'D']\n",
        "colors = ['C0', 'C1', 'C2']\n",
        "for cnt, xx in enumerate(data):\n",
        "    w = som.winner(xx) \n",
        "    plt.plot(w[0] + 0.5, \n",
        "             w[1] + 0.5, \n",
        "             markers[t[cnt]], \n",
        "             markerfacecolor = 'None',\n",
        "             markeredgecolor = colors[t[cnt]], \n",
        "             markersize = 12, \n",
        "             markeredgewidth=2)\n",
        "\n",
        "print(\"Setosa: Azul. \\nVersicolor: Naranja. \\nVirginica: Verde. \\n\")\n",
        "plt.show()"
      ],
      "execution_count": 4,
      "outputs": [
        {
          "output_type": "stream",
          "text": [
            "Setosa: Azul. \n",
            "Versicolor: Naranja. \n",
            "Virginica: Verde. \n",
            "\n"
          ],
          "name": "stdout"
        },
        {
          "output_type": "display_data",
          "data": {
            "image/png": "[encoded data removed]",
            "text/plain": [
              "<Figure size 432x288 with 1 Axes>"
            ]
          },
          "metadata": {
            "tags": [],
            "needs_background": "light"
          }
        }
      ]
    },
    {
      "cell_type": "code",
      "metadata": {
        "id": "0V0X5PjBJKaB",
        "colab_type": "code",
        "colab": {
          "base_uri": "https://localhost:8080/",
          "height": 269
        },
        "outputId": "f516cb18-c633-4c3b-c076-3bdddcb4099a"
      },
      "source": [
        "frequencies = som.activation_response(data)\n",
        "plt.pcolor(frequencies.T, cmap='Blues') \n",
        "plt.colorbar()\n",
        "plt.show()"
      ],
      "execution_count": 5,
      "outputs": [
        {
          "output_type": "display_data",
          "data": {
            "image/png": "[encoded data removed]",
            "text/plain": [
              "<Figure size 432x288 with 2 Axes>"
            ]
          },
          "metadata": {
            "tags": [],
            "needs_background": "light"
          }
        }
      ]
    }
  ]
}