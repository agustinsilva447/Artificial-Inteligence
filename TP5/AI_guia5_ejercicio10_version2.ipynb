{
 "cells": [
  {
   "cell_type": "code",
   "execution_count": 1,
   "metadata": {
    "colab": {},
    "colab_type": "code",
    "id": "_OHiwOEYZtHX"
   },
   "outputs": [],
   "source": [
    "import numpy as np\n",
    "import tensorflow as tf\n",
    "import matplotlib.pyplot as plt"
   ]
  },
  {
   "cell_type": "code",
   "execution_count": 2,
   "metadata": {
    "colab": {
     "base_uri": "https://localhost:8080/",
     "height": 282
    },
    "colab_type": "code",
    "id": "PX_GF5VhZvbS",
    "outputId": "d533a23a-e2e4-48f6-e898-50ee5fef45b7"
   },
   "outputs": [
    {
     "data": {
      "text/plain": [
       "[<matplotlib.lines.Line2D at 0x1bf9b11bc70>]"
      ]
     },
     "execution_count": 2,
     "metadata": {},
     "output_type": "execute_result"
    },
    {
     "data": {
      "image/png": "[encoded data removed]",
      "text/plain": [
       "<Figure size 432x288 with 1 Axes>"
      ]
     },
     "metadata": {
      "needs_background": "light"
     },
     "output_type": "display_data"
    }
   ],
   "source": [
    "series = np.loadtxt(\"seriesautos.txt\", dtype=np.float32)\n",
    "time = np.arange(1, 89)\n",
    "plt.plot(time, series)"
   ]
  },
  {
   "cell_type": "code",
   "execution_count": 3,
   "metadata": {
    "colab": {},
    "colab_type": "code",
    "id": "3v7uaQpoaDs8"
   },
   "outputs": [],
   "source": [
    "split_time = 84\n",
    "time_train = time[:split_time]\n",
    "x_train = series[:split_time]\n",
    "time_valid = time[split_time:]\n",
    "x_valid = series[split_time:]"
   ]
  },
  {
   "cell_type": "code",
   "execution_count": 4,
   "metadata": {
    "colab": {},
    "colab_type": "code",
    "id": "K70SVQy9a3Di"
   },
   "outputs": [],
   "source": [
    "def windowed_dataset(series, window_size, batch_size, shuffle_buffer):\n",
    "    series = tf.expand_dims(series, axis=-1)\n",
    "    ds = tf.data.Dataset.from_tensor_slices(series)\n",
    "    ds = ds.window(window_size + 1, shift=1, drop_remainder=True)\n",
    "    ds = ds.flat_map(lambda w: w.batch(window_size + 1))\n",
    "    ds = ds.shuffle(shuffle_buffer)\n",
    "    ds = ds.map(lambda w: (w[:-1], w[1:]))\n",
    "    return ds.batch(batch_size).prefetch(1)"
   ]
  },
  {
   "cell_type": "code",
   "execution_count": 6,
   "metadata": {
    "colab": {
     "base_uri": "https://localhost:8080/",
     "height": 51
    },
    "colab_type": "code",
    "id": "iBhWeEdLcbYW",
    "outputId": "0f59e80b-b0aa-4711-c699-31df8afe7a8f"
   },
   "outputs": [],
   "source": [
    "window_size = 10\n",
    "batch_size = 16\n",
    "shuffle_buffer_size = 50\n",
    "train_set = windowed_dataset(x_train, window_size, batch_size, shuffle_buffer_size)"
   ]
  },
  {
   "cell_type": "code",
   "execution_count": 0,
   "metadata": {
    "colab": {},
    "colab_type": "code",
    "id": "2wgLEegckuWO"
   },
   "outputs": [],
   "source": [
    "class myCallback(tf.keras.callbacks.Callback):\n",
    "  def on_epoch_end(self, epoch, logs={}):\n",
    "    if(logs.get('loss')<100):\n",
    "      print(\"\\nYa se alcanzó una 'loss' igual a 100 entonces paramos!\")\n",
    "      self.model.stop_training = True\n",
    "\n",
    "callbacks = myCallback()"
   ]
  },
  {
   "cell_type": "code",
   "execution_count": 7,
   "metadata": {
    "colab": {
     "base_uri": "https://localhost:8080/",
     "height": 1000
    },
    "colab_type": "code",
    "id": "WzTs90dScyOW",
    "outputId": "ac525210-c891-4fce-ae05-d9679c54289a"
   },
   "outputs": [
    {
     "name": "stdout",
     "output_type": "stream",
     "text": [
      "Epoch 1/100\n",
      "5/5 [==============================] - 0s 11ms/step - loss: 4319.0190 - mae: 55.9586\n",
      "Epoch 2/100\n",
      "5/5 [==============================] - 0s 9ms/step - loss: 1395.7219 - mae: 31.2626\n",
      "Epoch 3/100\n",
      "5/5 [==============================] - 0s 9ms/step - loss: 663.6879 - mae: 19.5388\n",
      "Epoch 4/100\n",
      "5/5 [==============================] - 0s 11ms/step - loss: 459.2112 - mae: 16.9164\n",
      "Epoch 5/100\n",
      "5/5 [==============================] - 0s 10ms/step - loss: 357.7198 - mae: 15.4254\n",
      "Epoch 6/100\n",
      "5/5 [==============================] - 0s 10ms/step - loss: 268.1453 - mae: 13.3531\n",
      "Epoch 7/100\n",
      "5/5 [==============================] - 0s 9ms/step - loss: 232.6321 - mae: 12.5625\n",
      "Epoch 8/100\n",
      "5/5 [==============================] - 0s 9ms/step - loss: 221.1396 - mae: 12.2416\n",
      "Epoch 9/100\n",
      "5/5 [==============================] - 0s 10ms/step - loss: 218.2830 - mae: 11.9563\n",
      "Epoch 10/100\n",
      "5/5 [==============================] - 0s 12ms/step - loss: 231.5203 - mae: 12.5655\n",
      "Epoch 11/100\n",
      "5/5 [==============================] - 0s 11ms/step - loss: 194.4382 - mae: 11.3774\n",
      "Epoch 12/100\n",
      "5/5 [==============================] - 0s 11ms/step - loss: 210.0733 - mae: 11.9632\n",
      "Epoch 13/100\n",
      "5/5 [==============================] - 0s 11ms/step - loss: 180.9097 - mae: 10.9637\n",
      "Epoch 14/100\n",
      "5/5 [==============================] - 0s 12ms/step - loss: 190.5572 - mae: 11.2596\n",
      "Epoch 15/100\n",
      "5/5 [==============================] - 0s 11ms/step - loss: 170.6868 - mae: 10.5632\n",
      "Epoch 16/100\n",
      "5/5 [==============================] - 0s 12ms/step - loss: 177.6362 - mae: 10.8707\n",
      "Epoch 17/100\n",
      "5/5 [==============================] - 0s 11ms/step - loss: 178.6604 - mae: 10.8600\n",
      "Epoch 18/100\n",
      "5/5 [==============================] - 0s 13ms/step - loss: 154.1309 - mae: 9.9700\n",
      "Epoch 19/100\n",
      "5/5 [==============================] - 0s 11ms/step - loss: 146.5668 - mae: 9.7015\n",
      "Epoch 20/100\n",
      "5/5 [==============================] - 0s 11ms/step - loss: 158.7643 - mae: 10.1053\n",
      "Epoch 21/100\n",
      "5/5 [==============================] - 0s 11ms/step - loss: 157.8691 - mae: 10.0347\n",
      "Epoch 22/100\n",
      "5/5 [==============================] - 0s 11ms/step - loss: 150.3225 - mae: 9.7391\n",
      "Epoch 23/100\n",
      "5/5 [==============================] - 0s 11ms/step - loss: 126.8181 - mae: 8.8830\n",
      "Epoch 24/100\n",
      "5/5 [==============================] - 0s 12ms/step - loss: 126.9076 - mae: 8.8451\n",
      "Epoch 25/100\n",
      "5/5 [==============================] - 0s 12ms/step - loss: 128.2713 - mae: 8.9013\n",
      "Epoch 26/100\n",
      "5/5 [==============================] - 0s 12ms/step - loss: 121.1203 - mae: 8.5129\n",
      "Epoch 27/100\n",
      "5/5 [==============================] - 0s 10ms/step - loss: 120.9130 - mae: 8.5204\n",
      "Epoch 28/100\n",
      "5/5 [==============================] - 0s 10ms/step - loss: 116.9993 - mae: 8.3971\n",
      "Epoch 29/100\n",
      "5/5 [==============================] - 0s 9ms/step - loss: 112.3091 - mae: 8.2224\n",
      "Epoch 30/100\n",
      "5/5 [==============================] - 0s 9ms/step - loss: 111.6606 - mae: 8.2387\n",
      "Epoch 31/100\n",
      "5/5 [==============================] - 0s 10ms/step - loss: 106.1116 - mae: 7.9950\n",
      "Epoch 32/100\n",
      "5/5 [==============================] - 0s 10ms/step - loss: 118.9377 - mae: 8.3884\n",
      "Epoch 33/100\n",
      "5/5 [==============================] - 0s 10ms/step - loss: 127.5171 - mae: 8.8190\n",
      "Epoch 34/100\n",
      "5/5 [==============================] - 0s 10ms/step - loss: 117.2399 - mae: 8.5169\n",
      "Epoch 35/100\n",
      "5/5 [==============================] - 0s 9ms/step - loss: 108.0713 - mae: 8.0231\n",
      "Epoch 36/100\n",
      "5/5 [==============================] - 0s 9ms/step - loss: 112.3636 - mae: 8.2216\n",
      "Epoch 37/100\n",
      "5/5 [==============================] - 0s 11ms/step - loss: 102.8269 - mae: 7.8604\n",
      "Epoch 38/100\n",
      "5/5 [==============================] - 0s 11ms/step - loss: 100.4712 - mae: 7.7772\n",
      "Epoch 39/100\n",
      "5/5 [==============================] - 0s 11ms/step - loss: 101.2780 - mae: 7.8513\n",
      "Epoch 40/100\n",
      "5/5 [==============================] - ETA: 0s - loss: 98.1619 - mae: 7.7003\n",
      "Ya se alcanzó una 'loss' igual a 100 entonces paramos!\n",
      "5/5 [==============================] - 0s 11ms/step - loss: 98.1619 - mae: 7.7003\n"
     ]
    }
   ],
   "source": [
    "from tensorflow.keras import Sequential\n",
    "from tensorflow.keras.layers import Conv1D, LSTM, Dense, Lambda\n",
    "from tensorflow.keras.losses import MeanSquaredError\n",
    "from tensorflow.keras.optimizers import Adam\n",
    "\n",
    "model = Sequential([\n",
    "  Conv1D(filters=60, kernel_size=5,\n",
    "                      strides=1, padding=\"causal\",\n",
    "                      activation=\"relu\",\n",
    "                      input_shape=[None, 1]),\n",
    "  LSTM(60, return_sequences=True), \n",
    "  LSTM(60, return_sequences=True),\n",
    "  Dense(30, activation=\"relu\"), \n",
    "  Dense(10, activation=\"relu\"),\n",
    "  Dense(1), \n",
    "  Lambda(lambda x: x * 100)\n",
    "])\n",
    "\n",
    "model.compile(loss=MeanSquaredError(), optimizer=Adam(), metrics=['mae'])\n",
    "history = model.fit(train_set, epochs=100, callbacks=[callbacks])"
   ]
  },
  {
   "cell_type": "code",
   "execution_count": 0,
   "metadata": {
    "colab": {},
    "colab_type": "code",
    "id": "i4k814k_cZ-B"
   },
   "outputs": [],
   "source": [
    "def model_forecast(model, series, window_size):\n",
    "    ds = tf.data.Dataset.from_tensor_slices(series)\n",
    "    ds = ds.window(window_size, shift=1, drop_remainder=True)\n",
    "    ds = ds.flat_map(lambda w: w.batch(window_size))\n",
    "    ds = ds.batch(32).prefetch(1)\n",
    "    forecast = model.predict(ds)\n",
    "    return forecast"
   ]
  },
  {
   "cell_type": "code",
   "execution_count": 0,
   "metadata": {
    "colab": {},
    "colab_type": "code",
    "id": "TWPFLX1vdPyB"
   },
   "outputs": [],
   "source": [
    "rnn_forecast = model_forecast(model, series[..., np.newaxis], window_size)\n",
    "rnn_forecast = rnn_forecast[split_time - window_size:-1, -1, 0]"
   ]
  },
  {
   "cell_type": "code",
   "execution_count": 10,
   "metadata": {
    "colab": {
     "base_uri": "https://localhost:8080/",
     "height": 282
    },
    "colab_type": "code",
    "id": "BOAPqj7UdvRp",
    "outputId": "ac953ea8-42b9-47ae-add5-6c163cf75582"
   },
   "outputs": [
    {
     "data": {
      "text/plain": [
       "[<matplotlib.lines.Line2D at 0x7f46f35a8630>]"
      ]
     },
     "execution_count": 10,
     "metadata": {
      "tags": []
     },
     "output_type": "execute_result"
    },
    {
     "data": {
      "image/png": "[encoded data removed]",
      "text/plain": [
       "<Figure size 432x288 with 1 Axes>"
      ]
     },
     "metadata": {
      "needs_background": "light",
      "tags": []
     },
     "output_type": "display_data"
    }
   ],
   "source": [
    "plt.plot(time, series)\n",
    "plt.plot(time_valid, rnn_forecast)"
   ]
  },
  {
   "cell_type": "code",
   "execution_count": 11,
   "metadata": {
    "colab": {
     "base_uri": "https://localhost:8080/",
     "height": 282
    },
    "colab_type": "code",
    "id": "GkMU-7tDd6PE",
    "outputId": "06461a59-bcf4-434f-96f8-598c077633ee"
   },
   "outputs": [
    {
     "data": {
      "text/plain": [
       "[<matplotlib.lines.Line2D at 0x7f46ef9b8198>]"
      ]
     },
     "execution_count": 11,
     "metadata": {
      "tags": []
     },
     "output_type": "execute_result"
    },
    {
     "data": {
      "image/png": "[encoded data removed]",
      "text/plain": [
       "<Figure size 432x288 with 1 Axes>"
      ]
     },
     "metadata": {
      "needs_background": "light",
      "tags": []
     },
     "output_type": "display_data"
    }
   ],
   "source": [
    "plt.plot(time_valid, x_valid)\n",
    "plt.plot(time_valid, rnn_forecast)"
   ]
  },
  {
   "cell_type": "code",
   "execution_count": 0,
   "metadata": {
    "colab": {},
    "colab_type": "code",
    "id": "5l7TEoyXlnmF"
   },
   "outputs": [],
   "source": []
  }
 ],
 "metadata": {
  "colab": {
   "name": "AI_guia5_ejercicio10_version2.ipynb",
   "provenance": []
  },
  "kernelspec": {
   "display_name": "Python 3",
   "language": "python",
   "name": "python3"
  },
  "language_info": {
   "codemirror_mode": {
    "name": "ipython",
    "version": 3
   },
   "file_extension": ".py",
   "mimetype": "text/x-python",
   "name": "python",
   "nbconvert_exporter": "python",
   "pygments_lexer": "ipython3",
   "version": "3.8.2"
  }
 },
 "nbformat": 4,
 "nbformat_minor": 1
}
