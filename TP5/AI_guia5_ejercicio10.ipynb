{
 "cells": [
  {
   "cell_type": "code",
   "execution_count": 1,
   "metadata": {
    "colab": {},
    "colab_type": "code",
    "id": "_OHiwOEYZtHX"
   },
   "outputs": [],
   "source": [
    "import numpy as np\n",
    "import tensorflow as tf\n",
    "import matplotlib.pyplot as plt"
   ]
  },
  {
   "cell_type": "code",
   "execution_count": 2,
   "metadata": {
    "colab": {
     "base_uri": "https://localhost:8080/",
     "height": 282
    },
    "colab_type": "code",
    "id": "PX_GF5VhZvbS",
    "outputId": "d533a23a-e2e4-48f6-e898-50ee5fef45b7"
   },
   "outputs": [
    {
     "data": {
      "text/plain": [
       "[<matplotlib.lines.Line2D at 0x20fba0ddbe0>]"
      ]
     },
     "execution_count": 2,
     "metadata": {},
     "output_type": "execute_result"
    },
    {
     "data": {
      "image/png": "[encoded data removed]",
      "text/plain": [
       "<Figure size 432x288 with 1 Axes>"
      ]
     },
     "metadata": {
      "needs_background": "light"
     },
     "output_type": "display_data"
    }
   ],
   "source": [
    "series = np.loadtxt(\"seriesautos.txt\", dtype=np.float32)\n",
    "time = np.arange(1, 89)\n",
    "plt.plot(time, series)"
   ]
  },
  {
   "cell_type": "code",
   "execution_count": 3,
   "metadata": {
    "colab": {},
    "colab_type": "code",
    "id": "3v7uaQpoaDs8"
   },
   "outputs": [],
   "source": [
    "split_time = 84\n",
    "time_train = time[:split_time]\n",
    "x_train = series[:split_time]\n",
    "time_valid = time[split_time:]\n",
    "x_valid = series[split_time:]"
   ]
  },
  {
   "cell_type": "code",
   "execution_count": 4,
   "metadata": {
    "colab": {},
    "colab_type": "code",
    "id": "K70SVQy9a3Di"
   },
   "outputs": [],
   "source": [
    "def windowed_dataset(series, window_size, batch_size, shuffle_buffer):\n",
    "    series = tf.expand_dims(series, axis=-1)\n",
    "    ds = tf.data.Dataset.from_tensor_slices(series)\n",
    "    ds = ds.window(window_size + 1, shift=1, drop_remainder=True)\n",
    "    ds = ds.flat_map(lambda w: w.batch(window_size + 1))\n",
    "    ds = ds.shuffle(shuffle_buffer)\n",
    "    ds = ds.map(lambda w: (w[:-1], w[1:]))\n",
    "    return ds.batch(batch_size).prefetch(1)"
   ]
  },
  {
   "cell_type": "code",
   "execution_count": 5,
   "metadata": {
    "colab": {
     "base_uri": "https://localhost:8080/",
     "height": 51
    },
    "colab_type": "code",
    "id": "iBhWeEdLcbYW",
    "outputId": "0f59e80b-b0aa-4711-c699-31df8afe7a8f"
   },
   "outputs": [],
   "source": [
    "window_size = 10\n",
    "batch_size = 16\n",
    "shuffle_buffer_size = 50\n",
    "train_set = windowed_dataset(x_train, window_size, batch_size, shuffle_buffer_size)"
   ]
  },
  {
   "cell_type": "code",
   "execution_count": 6,
   "metadata": {
    "colab": {},
    "colab_type": "code",
    "id": "2wgLEegckuWO"
   },
   "outputs": [],
   "source": [
    "class myCallback(tf.keras.callbacks.Callback):\n",
    "  def on_epoch_end(self, epoch, logs={}):\n",
    "    if(logs.get('loss')<100):\n",
    "      print(\"\\nYa se alcanzó una 'loss' igual a 100 entonces paramos!\")\n",
    "      self.model.stop_training = True\n",
    "\n",
    "callbacks = myCallback()"
   ]
  },
  {
   "cell_type": "code",
   "execution_count": 7,
   "metadata": {
    "colab": {
     "base_uri": "https://localhost:8080/",
     "height": 1000
    },
    "colab_type": "code",
    "id": "WzTs90dScyOW",
    "outputId": "ac525210-c891-4fce-ae05-d9679c54289a"
   },
   "outputs": [
    {
     "name": "stdout",
     "output_type": "stream",
     "text": [
      "Epoch 1/100\n",
      "5/5 [==============================] - 1s 108ms/step - loss: 6273.0889 - mae: 77.2938\n",
      "Epoch 2/100\n",
      "5/5 [==============================] - 0s 14ms/step - loss: 2135.8696 - mae: 38.8680\n",
      "Epoch 3/100\n",
      "5/5 [==============================] - 0s 13ms/step - loss: 1365.5881 - mae: 30.1320\n",
      "Epoch 4/100\n",
      "5/5 [==============================] - 0s 13ms/step - loss: 957.2264 - mae: 25.4132\n",
      "Epoch 5/100\n",
      "5/5 [==============================] - 0s 13ms/step - loss: 565.9843 - mae: 17.5186\n",
      "Epoch 6/100\n",
      "5/5 [==============================] - 0s 14ms/step - loss: 474.0812 - mae: 16.8425\n",
      "Epoch 7/100\n",
      "5/5 [==============================] - 0s 14ms/step - loss: 394.4659 - mae: 16.0134\n",
      "Epoch 8/100\n",
      "5/5 [==============================] - 0s 13ms/step - loss: 345.5011 - mae: 15.3715\n",
      "Epoch 9/100\n",
      "5/5 [==============================] - 0s 13ms/step - loss: 282.3914 - mae: 13.8952\n",
      "Epoch 10/100\n",
      "5/5 [==============================] - 0s 13ms/step - loss: 265.8201 - mae: 13.2598\n",
      "Epoch 11/100\n",
      "5/5 [==============================] - 0s 13ms/step - loss: 259.4573 - mae: 12.9396\n",
      "Epoch 12/100\n",
      "5/5 [==============================] - 0s 13ms/step - loss: 229.2242 - mae: 12.4469\n",
      "Epoch 13/100\n",
      "5/5 [==============================] - 0s 13ms/step - loss: 221.2933 - mae: 12.2447\n",
      "Epoch 14/100\n",
      "5/5 [==============================] - 0s 13ms/step - loss: 221.6779 - mae: 12.1733\n",
      "Epoch 15/100\n",
      "5/5 [==============================] - 0s 13ms/step - loss: 215.0810 - mae: 12.0750\n",
      "Epoch 16/100\n",
      "5/5 [==============================] - 0s 13ms/step - loss: 215.9614 - mae: 11.9905\n",
      "Epoch 17/100\n",
      "5/5 [==============================] - 0s 13ms/step - loss: 205.6682 - mae: 11.7172\n",
      "Epoch 18/100\n",
      "5/5 [==============================] - 0s 13ms/step - loss: 207.0831 - mae: 11.6453\n",
      "Epoch 19/100\n",
      "5/5 [==============================] - 0s 14ms/step - loss: 201.3133 - mae: 11.6921\n",
      "Epoch 20/100\n",
      "5/5 [==============================] - 0s 18ms/step - loss: 200.5452 - mae: 11.3932\n",
      "Epoch 21/100\n",
      "5/5 [==============================] - 0s 24ms/step - loss: 217.2589 - mae: 11.8410\n",
      "Epoch 22/100\n",
      "5/5 [==============================] - 0s 21ms/step - loss: 191.2802 - mae: 10.9795\n",
      "Epoch 23/100\n",
      "5/5 [==============================] - 0s 14ms/step - loss: 194.7784 - mae: 11.2316\n",
      "Epoch 24/100\n",
      "5/5 [==============================] - 0s 14ms/step - loss: 174.9626 - mae: 10.7165 0s - loss: 176.8868 - mae: 10.71\n",
      "Epoch 25/100\n",
      "5/5 [==============================] - 0s 13ms/step - loss: 170.9771 - mae: 10.4850\n",
      "Epoch 26/100\n",
      "5/5 [==============================] - 0s 19ms/step - loss: 166.3050 - mae: 10.2990\n",
      "Epoch 27/100\n",
      "5/5 [==============================] - ETA: 0s - loss: 147.8925 - mae: 9.6680 - 0s 22ms/step - loss: 154.9397 - mae: 9.8389\n",
      "Epoch 28/100\n",
      "5/5 [==============================] - 0s 18ms/step - loss: 147.3604 - mae: 9.6866\n",
      "Epoch 29/100\n",
      "5/5 [==============================] - 0s 16ms/step - loss: 144.1320 - mae: 9.5522\n",
      "Epoch 30/100\n",
      "5/5 [==============================] - 0s 13ms/step - loss: 131.4245 - mae: 9.0652\n",
      "Epoch 31/100\n",
      "5/5 [==============================] - 0s 16ms/step - loss: 122.9409 - mae: 8.6074\n",
      "Epoch 32/100\n",
      "5/5 [==============================] - 0s 22ms/step - loss: 123.6479 - mae: 8.6363\n",
      "Epoch 33/100\n",
      "5/5 [==============================] - 0s 21ms/step - loss: 125.9238 - mae: 8.7581\n",
      "Epoch 34/100\n",
      "5/5 [==============================] - 0s 13ms/step - loss: 110.4522 - mae: 8.0124\n",
      "Epoch 35/100\n",
      "5/5 [==============================] - 0s 13ms/step - loss: 114.3414 - mae: 8.1442\n",
      "Epoch 36/100\n",
      "5/5 [==============================] - 0s 13ms/step - loss: 108.5680 - mae: 7.8772\n",
      "Epoch 37/100\n",
      "5/5 [==============================] - 0s 13ms/step - loss: 106.2195 - mae: 7.8015\n",
      "Epoch 38/100\n",
      "5/5 [==============================] - 0s 13ms/step - loss: 106.5568 - mae: 7.9085\n",
      "Epoch 39/100\n",
      "5/5 [==============================] - 0s 20ms/step - loss: 108.7613 - mae: 7.9665\n",
      "Epoch 40/100\n",
      "5/5 [==============================] - 0s 19ms/step - loss: 106.5105 - mae: 7.9714\n",
      "Epoch 41/100\n",
      "5/5 [==============================] - 0s 19ms/step - loss: 108.0401 - mae: 8.0458\n",
      "Epoch 42/100\n",
      "5/5 [==============================] - 0s 14ms/step - loss: 116.5686 - mae: 8.4459\n",
      "Epoch 43/100\n",
      "5/5 [==============================] - 0s 16ms/step - loss: 110.8767 - mae: 7.9673\n",
      "Epoch 44/100\n",
      "5/5 [==============================] - 0s 16ms/step - loss: 104.9926 - mae: 7.9044\n",
      "Epoch 45/100\n",
      "5/5 [==============================] - 0s 18ms/step - loss: 105.1382 - mae: 7.8131\n",
      "Epoch 46/100\n",
      "5/5 [==============================] - 0s 19ms/step - loss: 110.8388 - mae: 8.0583\n",
      "Epoch 47/100\n",
      "5/5 [==============================] - 0s 23ms/step - loss: 105.5754 - mae: 7.7967\n",
      "Epoch 48/100\n",
      "5/5 [==============================] - 0s 17ms/step - loss: 102.7109 - mae: 7.7525\n",
      "Epoch 49/100\n",
      "4/5 [=======================>......] - ETA: 0s - loss: 104.2370 - mae: 7.6922\n",
      "Ya se alcanzó una 'loss' igual a 100 entonces paramos!\n",
      "5/5 [==============================] - 0s 14ms/step - loss: 99.6878 - mae: 7.6391\n"
     ]
    }
   ],
   "source": [
    "from tensorflow.keras import Sequential\n",
    "from tensorflow.keras.layers import Conv1D, LSTM, Dense, Lambda\n",
    "from tensorflow.keras.losses import MeanSquaredError\n",
    "from tensorflow.keras.optimizers import Adam\n",
    "\n",
    "model = Sequential([\n",
    "  Conv1D(filters=60, kernel_size=5,\n",
    "                      strides=1, padding=\"causal\",\n",
    "                      activation=\"relu\",\n",
    "                      input_shape=[None, 1]),\n",
    "  LSTM(60, return_sequences=True), \n",
    "  LSTM(60, return_sequences=True),\n",
    "  Dense(30, activation=\"relu\"), \n",
    "  Dense(10, activation=\"relu\"),\n",
    "  Dense(1), \n",
    "  Lambda(lambda x: x * 100)\n",
    "])\n",
    "\n",
    "model.compile(loss=MeanSquaredError(), optimizer=Adam(), metrics=['mae'])\n",
    "history = model.fit(train_set, epochs=100, callbacks=[callbacks])"
   ]
  },
  {
   "cell_type": "code",
   "execution_count": 8,
   "metadata": {
    "colab": {},
    "colab_type": "code",
    "id": "i4k814k_cZ-B"
   },
   "outputs": [],
   "source": [
    "def model_forecast(model, series, window_size):\n",
    "    ds = tf.data.Dataset.from_tensor_slices(series)\n",
    "    ds = ds.window(window_size, shift=1, drop_remainder=True)\n",
    "    ds = ds.flat_map(lambda w: w.batch(window_size))\n",
    "    ds = ds.batch(32).prefetch(1)\n",
    "    forecast = model.predict(ds)\n",
    "    return forecast"
   ]
  },
  {
   "cell_type": "code",
   "execution_count": 9,
   "metadata": {
    "colab": {},
    "colab_type": "code",
    "id": "TWPFLX1vdPyB"
   },
   "outputs": [],
   "source": [
    "rnn_forecast = model_forecast(model, series[..., np.newaxis], window_size)\n",
    "rnn_forecast = rnn_forecast[split_time - window_size:-1, -1, 0]"
   ]
  },
  {
   "cell_type": "code",
   "execution_count": 10,
   "metadata": {
    "colab": {
     "base_uri": "https://localhost:8080/",
     "height": 282
    },
    "colab_type": "code",
    "id": "BOAPqj7UdvRp",
    "outputId": "ac953ea8-42b9-47ae-add5-6c163cf75582"
   },
   "outputs": [
    {
     "data": {
      "text/plain": [
       "[<matplotlib.lines.Line2D at 0x20fd08255b0>]"
      ]
     },
     "execution_count": 10,
     "metadata": {},
     "output_type": "execute_result"
    },
    {
     "data": {
      "image/png": "[encoded data removed]",
      "text/plain": [
       "<Figure size 432x288 with 1 Axes>"
      ]
     },
     "metadata": {
      "needs_background": "light"
     },
     "output_type": "display_data"
    }
   ],
   "source": [
    "plt.plot(time, series)\n",
    "plt.plot(time_valid, rnn_forecast)"
   ]
  },
  {
   "cell_type": "code",
   "execution_count": 11,
   "metadata": {
    "colab": {
     "base_uri": "https://localhost:8080/",
     "height": 282
    },
    "colab_type": "code",
    "id": "GkMU-7tDd6PE",
    "outputId": "06461a59-bcf4-434f-96f8-598c077633ee"
   },
   "outputs": [
    {
     "data": {
      "text/plain": [
       "[<matplotlib.lines.Line2D at 0x20fd087ccd0>]"
      ]
     },
     "execution_count": 11,
     "metadata": {},
     "output_type": "execute_result"
    },
    {
     "data": {
      "image/png": "[encoded data removed]",
      "text/plain": [
       "<Figure size 432x288 with 1 Axes>"
      ]
     },
     "metadata": {
      "needs_background": "light"
     },
     "output_type": "display_data"
    }
   ],
   "source": [
    "plt.plot(time_valid, x_valid)\n",
    "plt.plot(time_valid, rnn_forecast)"
   ]
  },
  {
   "cell_type": "code",
   "execution_count": null,
   "metadata": {
    "colab": {},
    "colab_type": "code",
    "id": "5l7TEoyXlnmF"
   },
   "outputs": [],
   "source": []
  }
 ],
 "metadata": {
  "colab": {
   "name": "AI_guia5_ejercicio10_version2.ipynb",
   "provenance": []
  },
  "kernelspec": {
   "display_name": "Python 3",
   "language": "python",
   "name": "python3"
  },
  "language_info": {
   "codemirror_mode": {
    "name": "ipython",
    "version": 3
   },
   "file_extension": ".py",
   "mimetype": "text/x-python",
   "name": "python",
   "nbconvert_exporter": "python",
   "pygments_lexer": "ipython3",
   "version": "3.8.2"
  }
 },
 "nbformat": 4,
 "nbformat_minor": 1
}
