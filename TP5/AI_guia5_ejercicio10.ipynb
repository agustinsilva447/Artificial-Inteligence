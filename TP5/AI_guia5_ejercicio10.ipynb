{
 "cells": [
  {
   "cell_type": "markdown",
   "metadata": {},
   "source": [
    "Primero importamos las librerías necesarias para resolver el problema"
   ]
  },
  {
   "cell_type": "code",
   "execution_count": 2,
   "metadata": {
    "colab": {},
    "colab_type": "code",
    "id": "_OHiwOEYZtHX"
   },
   "outputs": [],
   "source": [
    "import numpy as np\n",
    "import tensorflow as tf\n",
    "import matplotlib.pyplot as plt"
   ]
  },
  {
   "cell_type": "markdown",
   "metadata": {},
   "source": [
    "Luego, importamos el data set en un array numpy y lo graficamos"
   ]
  },
  {
   "cell_type": "code",
   "execution_count": 3,
   "metadata": {
    "colab": {
     "base_uri": "https://localhost:8080/",
     "height": 282
    },
    "colab_type": "code",
    "id": "PX_GF5VhZvbS",
    "outputId": "d533a23a-e2e4-48f6-e898-50ee5fef45b7"
   },
   "outputs": [
    {
     "data": {
      "text/plain": [
       "[<matplotlib.lines.Line2D at 0x255ca469af0>]"
      ]
     },
     "execution_count": 3,
     "metadata": {},
     "output_type": "execute_result"
    },
    {
     "data": {
      "image/png": "[encoded data removed]",
      "text/plain": [
       "<Figure size 432x288 with 1 Axes>"
      ]
     },
     "metadata": {
      "needs_background": "light"
     },
     "output_type": "display_data"
    }
   ],
   "source": [
    "series = np.loadtxt(\"seriesautos.txt\", dtype=np.float32)\n",
    "time = np.arange(1, 89)\n",
    "plt.plot(time, series)"
   ]
  },
  {
   "cell_type": "markdown",
   "metadata": {},
   "source": [
    "Aquí dividimos a los datos en datos de entrenamiento y validación"
   ]
  },
  {
   "cell_type": "code",
   "execution_count": 4,
   "metadata": {
    "colab": {},
    "colab_type": "code",
    "id": "3v7uaQpoaDs8"
   },
   "outputs": [],
   "source": [
    "split_time = 84\n",
    "time_train = time[:split_time]\n",
    "x_train = series[:split_time]\n",
    "time_valid = time[split_time:]\n",
    "x_valid = series[split_time:]"
   ]
  },
  {
   "cell_type": "markdown",
   "metadata": {},
   "source": [
    "Aquí definimos la ventana que usaremos para entrenar la red, es decir, qué datos serán tenidos en cuenta a la hora de entrenar la red. Un window_size = 10, quiere decir que tomaré 10 valores y predeciré el 11avo. \n",
    "\n",
    "El batch size es la cantidad de veces que entrenaré la red neuronales antes de actualizar la función de coste. Y, finalmente, el shuffle_buffer hace que la selección de muestras aleatoreas sea más rápida (en vez es elegír entre todos los valores del dataset, elige entre los primeros 'shuffle_buffer')."
   ]
  },
  {
   "cell_type": "code",
   "execution_count": 5,
   "metadata": {
    "colab": {},
    "colab_type": "code",
    "id": "K70SVQy9a3Di"
   },
   "outputs": [],
   "source": [
    "def windowed_dataset(series, window_size, batch_size, shuffle_buffer):\n",
    "    series = tf.expand_dims(series, axis=-1)\n",
    "    ds = tf.data.Dataset.from_tensor_slices(series)\n",
    "    ds = ds.window(window_size + 1, shift=1, drop_remainder=True)\n",
    "    ds = ds.flat_map(lambda w: w.batch(window_size + 1))\n",
    "    ds = ds.shuffle(shuffle_buffer)\n",
    "    ds = ds.map(lambda w: (w[:-1], w[1:]))\n",
    "    return ds.batch(batch_size).prefetch(1)\n",
    "\n",
    "window_size = 10\n",
    "batch_size = 16\n",
    "shuffle_buffer_size = 50\n",
    "train_set = windowed_dataset(x_train, window_size, batch_size, shuffle_buffer_size)"
   ]
  },
  {
   "cell_type": "markdown",
   "metadata": {
    "colab": {
     "base_uri": "https://localhost:8080/",
     "height": 51
    },
    "colab_type": "code",
    "id": "iBhWeEdLcbYW",
    "outputId": "0f59e80b-b0aa-4711-c699-31df8afe7a8f"
   },
   "source": [
    "Aquí definimos un Callback para que el entrenamiento de la red se interrumpa si obtenemos un valor de 'loss' < 100. El valor 100 fue decidido manualmente luego de varias pruebas para obtener un balance entre cantidad de iteraciones y generalización del sistema."
   ]
  },
  {
   "cell_type": "code",
   "execution_count": 6,
   "metadata": {
    "colab": {},
    "colab_type": "code",
    "id": "2wgLEegckuWO"
   },
   "outputs": [],
   "source": [
    "class myCallback(tf.keras.callbacks.Callback):\n",
    "  def on_epoch_end(self, epoch, logs={}):\n",
    "    if(logs.get('loss')<100):\n",
    "      print(\"\\nYa se alcanzó una 'loss' igual a 100 entonces paramos!\")\n",
    "      self.model.stop_training = True\n",
    "\n",
    "callbacks = myCallback()"
   ]
  },
  {
   "cell_type": "markdown",
   "metadata": {},
   "source": [
    "En esta etapa diseñamos el modelo. Al principio de la red colocamos una capa convolucional unidimencional, esto no es necesario pero suele ser útil una capa así cuando trabajamos con señales en el tiempo antes de entrar las capas recurrentes. La capa tiene 60 filtros de 5x5, con un stride = 1, padding causal es para que no tenga en cuenta valores posteriores a t (señal causal) y usamos un función de activación 'relu' como en todo el resto de la red.\n",
    "\n",
    "Luego agregamos dos capas LSTM (redes recurrente con memoria) con 60 nodos cada una, return_sequences = True indica que la salida de la capa va a ser de la misma longitud de la entrada. Luego agregamos 3 capas densas, una con 30 unidadades, una con 10 unidades y una última con una sola unidad para estimar el valor futuro. La última capa Lambda solo ayuda a que la salida sea del orden de magnitud de los valores que típicamente maneja la señal.\n",
    "\n",
    "Cuando entrenamos usamos la función del error cuadrático medio, el optimizador Adam y asignamos 100 épocas (aunque gracias al callback definido anteriormente el entrenamiento se interrumpe en la época 55 porque ya alcanza una 'loss' menor a 100.\n",
    "\n"
   ]
  },
  {
   "cell_type": "code",
   "execution_count": 7,
   "metadata": {
    "colab": {
     "base_uri": "https://localhost:8080/",
     "height": 1000
    },
    "colab_type": "code",
    "id": "WzTs90dScyOW",
    "outputId": "ac525210-c891-4fce-ae05-d9679c54289a"
   },
   "outputs": [
    {
     "name": "stdout",
     "output_type": "stream",
     "text": [
      "Epoch 1/100\n",
      "5/5 [==============================] - 1s 218ms/step - loss: 7726.2412 - mae: 86.9812\n",
      "Epoch 2/100\n",
      "5/5 [==============================] - 0s 15ms/step - loss: 4381.3594 - mae: 63.8265\n",
      "Epoch 3/100\n",
      "5/5 [==============================] - 0s 13ms/step - loss: 1937.8777 - mae: 37.2483\n",
      "Epoch 4/100\n",
      "5/5 [==============================] - 0s 16ms/step - loss: 1057.4198 - mae: 25.5376\n",
      "Epoch 5/100\n",
      "5/5 [==============================] - 0s 12ms/step - loss: 872.0413 - mae: 23.9741\n",
      "Epoch 6/100\n",
      "5/5 [==============================] - 0s 16ms/step - loss: 578.2586 - mae: 18.5393\n",
      "Epoch 7/100\n",
      "5/5 [==============================] - 0s 13ms/step - loss: 468.1416 - mae: 16.5675\n",
      "Epoch 8/100\n",
      "5/5 [==============================] - 0s 13ms/step - loss: 403.8145 - mae: 15.8082\n",
      "Epoch 9/100\n",
      "5/5 [==============================] - 0s 14ms/step - loss: 356.4432 - mae: 15.1620\n",
      "Epoch 10/100\n",
      "5/5 [==============================] - 0s 13ms/step - loss: 323.6580 - mae: 14.6100\n",
      "Epoch 11/100\n",
      "5/5 [==============================] - 0s 16ms/step - loss: 305.3017 - mae: 14.2679\n",
      "Epoch 12/100\n",
      "5/5 [==============================] - 0s 14ms/step - loss: 281.7422 - mae: 13.7056\n",
      "Epoch 13/100\n",
      "5/5 [==============================] - 0s 14ms/step - loss: 254.9065 - mae: 13.1403\n",
      "Epoch 14/100\n",
      "5/5 [==============================] - 0s 15ms/step - loss: 242.8417 - mae: 12.8126\n",
      "Epoch 15/100\n",
      "5/5 [==============================] - 0s 14ms/step - loss: 235.5534 - mae: 12.6398\n",
      "Epoch 16/100\n",
      "5/5 [==============================] - 0s 14ms/step - loss: 229.7597 - mae: 12.3671\n",
      "Epoch 17/100\n",
      "5/5 [==============================] - 0s 16ms/step - loss: 229.8046 - mae: 12.3359\n",
      "Epoch 18/100\n",
      "5/5 [==============================] - 0s 15ms/step - loss: 215.0241 - mae: 12.1704\n",
      "Epoch 19/100\n",
      "5/5 [==============================] - 0s 13ms/step - loss: 217.2000 - mae: 11.9940\n",
      "Epoch 20/100\n",
      "5/5 [==============================] - 0s 14ms/step - loss: 215.6052 - mae: 12.0186\n",
      "Epoch 21/100\n",
      "5/5 [==============================] - 0s 14ms/step - loss: 195.2583 - mae: 11.5671\n",
      "Epoch 22/100\n",
      "5/5 [==============================] - 0s 13ms/step - loss: 199.3187 - mae: 11.4389\n",
      "Epoch 23/100\n",
      "5/5 [==============================] - 0s 16ms/step - loss: 194.3883 - mae: 11.4949\n",
      "Epoch 24/100\n",
      "5/5 [==============================] - 0s 15ms/step - loss: 194.4720 - mae: 11.4332\n",
      "Epoch 25/100\n",
      "5/5 [==============================] - 0s 14ms/step - loss: 180.5113 - mae: 10.9803\n",
      "Epoch 26/100\n",
      "5/5 [==============================] - 0s 16ms/step - loss: 173.1270 - mae: 10.7855 0s - loss: 177.0721 - mae: 10.77\n",
      "Epoch 27/100\n",
      "5/5 [==============================] - 0s 16ms/step - loss: 167.6504 - mae: 10.3243\n",
      "Epoch 28/100\n",
      "5/5 [==============================] - 0s 14ms/step - loss: 150.9721 - mae: 9.9815\n",
      "Epoch 29/100\n",
      "5/5 [==============================] - 0s 18ms/step - loss: 135.5304 - mae: 9.4215\n",
      "Epoch 30/100\n",
      "5/5 [==============================] - 0s 16ms/step - loss: 164.0183 - mae: 10.4516\n",
      "Epoch 31/100\n",
      "5/5 [==============================] - 0s 14ms/step - loss: 191.1488 - mae: 11.1482\n",
      "Epoch 32/100\n",
      "5/5 [==============================] - 0s 13ms/step - loss: 151.2761 - mae: 9.7977\n",
      "Epoch 33/100\n",
      "5/5 [==============================] - 0s 13ms/step - loss: 137.8431 - mae: 9.3804\n",
      "Epoch 34/100\n",
      "5/5 [==============================] - 0s 15ms/step - loss: 128.0940 - mae: 8.9396\n",
      "Epoch 35/100\n",
      "5/5 [==============================] - 0s 14ms/step - loss: 125.1523 - mae: 8.8796\n",
      "Epoch 36/100\n",
      "5/5 [==============================] - 0s 14ms/step - loss: 112.2728 - mae: 8.3373\n",
      "Epoch 37/100\n",
      "5/5 [==============================] - 0s 15ms/step - loss: 114.4317 - mae: 8.3856\n",
      "Epoch 38/100\n",
      "5/5 [==============================] - 0s 16ms/step - loss: 122.6501 - mae: 8.6554\n",
      "Epoch 39/100\n",
      "5/5 [==============================] - 0s 14ms/step - loss: 128.5587 - mae: 8.7873\n",
      "Epoch 40/100\n",
      "5/5 [==============================] - 0s 15ms/step - loss: 126.0216 - mae: 8.7618\n",
      "Epoch 41/100\n",
      "5/5 [==============================] - 0s 13ms/step - loss: 129.1157 - mae: 9.1413\n",
      "Epoch 42/100\n",
      "5/5 [==============================] - 0s 13ms/step - loss: 112.2099 - mae: 8.3549\n",
      "Epoch 43/100\n",
      "5/5 [==============================] - 0s 13ms/step - loss: 104.5581 - mae: 7.9718\n",
      "Epoch 44/100\n",
      "5/5 [==============================] - 0s 15ms/step - loss: 106.8602 - mae: 8.0957\n",
      "Epoch 45/100\n",
      "5/5 [==============================] - 0s 14ms/step - loss: 106.0594 - mae: 7.9567\n",
      "Epoch 46/100\n",
      "5/5 [==============================] - 0s 15ms/step - loss: 102.1829 - mae: 7.9433\n",
      "Epoch 47/100\n",
      "5/5 [==============================] - 0s 16ms/step - loss: 104.2804 - mae: 7.9825\n",
      "Epoch 48/100\n",
      "5/5 [==============================] - 0s 17ms/step - loss: 106.6647 - mae: 8.1293\n",
      "Epoch 49/100\n",
      "5/5 [==============================] - 0s 16ms/step - loss: 104.6474 - mae: 7.9184\n",
      "Epoch 50/100\n",
      "5/5 [==============================] - 0s 16ms/step - loss: 122.2732 - mae: 8.7206\n",
      "Epoch 51/100\n",
      "5/5 [==============================] - 0s 13ms/step - loss: 141.3614 - mae: 9.3732\n",
      "Epoch 52/100\n",
      "5/5 [==============================] - 0s 16ms/step - loss: 109.0777 - mae: 8.2366\n",
      "Epoch 53/100\n",
      "5/5 [==============================] - 0s 14ms/step - loss: 103.0565 - mae: 7.9509\n",
      "Epoch 54/100\n",
      "5/5 [==============================] - 0s 14ms/step - loss: 114.0875 - mae: 8.4950\n",
      "Epoch 55/100\n",
      "4/5 [=======================>......] - ETA: 0s - loss: 104.9139 - mae: 7.9854\n",
      "Ya se alcanzó una 'loss' igual a 100 entonces paramos!\n",
      "5/5 [==============================] - 0s 14ms/step - loss: 99.0594 - mae: 7.8478\n"
     ]
    }
   ],
   "source": [
    "from tensorflow.keras import Sequential\n",
    "from tensorflow.keras.layers import Conv1D, LSTM, Dense, Lambda\n",
    "from tensorflow.keras.losses import MeanSquaredError\n",
    "from tensorflow.keras.optimizers import Adam\n",
    "\n",
    "model = Sequential([\n",
    "  Conv1D(filters=60, kernel_size=5,\n",
    "                      strides=1, padding=\"causal\",\n",
    "                      activation=\"relu\",\n",
    "                      input_shape=[None, 1]),\n",
    "  LSTM(60, return_sequences=True), \n",
    "  LSTM(60, return_sequences=True),\n",
    "  Dense(30, activation=\"relu\"), \n",
    "  Dense(10, activation=\"relu\"),\n",
    "  Dense(1), \n",
    "  Lambda(lambda x: x * 100)\n",
    "])\n",
    "\n",
    "model.compile(loss=MeanSquaredError(), optimizer=Adam(), metrics=['mae'])\n",
    "history = model.fit(train_set, epochs=100, callbacks=[callbacks])"
   ]
  },
  {
   "cell_type": "markdown",
   "metadata": {},
   "source": [
    "Con esta función predeciremos los valores fururos teniendo en cuenta los últimos 10 valores para todos los valores del validation set (los últimos 4 meses que pide la consigna). Tengamos en cuenta que los últimos 4 meses nos fueron nunca utilizados durante el entrenamiento."
   ]
  },
  {
   "cell_type": "code",
   "execution_count": 8,
   "metadata": {
    "colab": {},
    "colab_type": "code",
    "id": "i4k814k_cZ-B"
   },
   "outputs": [],
   "source": [
    "def model_forecast(model, series, window_size):\n",
    "    ds = tf.data.Dataset.from_tensor_slices(series)\n",
    "    ds = ds.window(window_size, shift=1, drop_remainder=True)\n",
    "    ds = ds.flat_map(lambda w: w.batch(window_size))\n",
    "    ds = ds.batch(32).prefetch(1)\n",
    "    forecast = model.predict(ds)\n",
    "    return forecast\n",
    "\n",
    "rnn_forecast = model_forecast(model, series[..., np.newaxis], window_size)\n",
    "rnn_forecast = rnn_forecast[split_time - window_size:-1, -1, 0]"
   ]
  },
  {
   "cell_type": "markdown",
   "metadata": {},
   "source": [
    "Aquí graficamos en azul a la señal original en todo el rango y superpuesto en naranja los valores que la red neuronal predijo para los valores futuros."
   ]
  },
  {
   "cell_type": "code",
   "execution_count": 9,
   "metadata": {
    "colab": {
     "base_uri": "https://localhost:8080/",
     "height": 282
    },
    "colab_type": "code",
    "id": "BOAPqj7UdvRp",
    "outputId": "ac953ea8-42b9-47ae-add5-6c163cf75582"
   },
   "outputs": [
    {
     "data": {
      "text/plain": [
       "[<matplotlib.lines.Line2D at 0x255d33c0580>]"
      ]
     },
     "execution_count": 9,
     "metadata": {},
     "output_type": "execute_result"
    },
    {
     "data": {
      "image/png": "[encoded data removed]",
      "text/plain": [
       "<Figure size 432x288 with 1 Axes>"
      ]
     },
     "metadata": {
      "needs_background": "light"
     },
     "output_type": "display_data"
    }
   ],
   "source": [
    "plt.plot(time, series)\n",
    "plt.plot(time_valid, rnn_forecast)"
   ]
  },
  {
   "cell_type": "markdown",
   "metadata": {},
   "source": [
    "Para que se vea mejor graficamos únicamente los valores que predijimos (en naranja) y los originales (en azul) y observamos que la diferencia entre ambas es bastante baja."
   ]
  },
  {
   "cell_type": "code",
   "execution_count": 10,
   "metadata": {
    "colab": {
     "base_uri": "https://localhost:8080/",
     "height": 282
    },
    "colab_type": "code",
    "id": "GkMU-7tDd6PE",
    "outputId": "06461a59-bcf4-434f-96f8-598c077633ee"
   },
   "outputs": [
    {
     "data": {
      "text/plain": [
       "[<matplotlib.lines.Line2D at 0x255d34169d0>]"
      ]
     },
     "execution_count": 10,
     "metadata": {},
     "output_type": "execute_result"
    },
    {
     "data": {
      "image/png": "[encoded data removed]",
      "text/plain": [
       "<Figure size 432x288 with 1 Axes>"
      ]
     },
     "metadata": {
      "needs_background": "light"
     },
     "output_type": "display_data"
    }
   ],
   "source": [
    "plt.plot(time_valid, x_valid)\n",
    "plt.plot(time_valid, rnn_forecast)"
   ]
  },
  {
   "cell_type": "code",
   "execution_count": null,
   "metadata": {
    "colab": {},
    "colab_type": "code",
    "id": "5l7TEoyXlnmF"
   },
   "outputs": [],
   "source": []
  }
 ],
 "metadata": {
  "colab": {
   "name": "AI_guia5_ejercicio10_version2.ipynb",
   "provenance": []
  },
  "kernelspec": {
   "display_name": "Python 3",
   "language": "python",
   "name": "python3"
  },
  "language_info": {
   "codemirror_mode": {
    "name": "ipython",
    "version": 3
   },
   "file_extension": ".py",
   "mimetype": "text/x-python",
   "name": "python",
   "nbconvert_exporter": "python",
   "pygments_lexer": "ipython3",
   "version": "3.8.2"
  }
 },
 "nbformat": 4,
 "nbformat_minor": 1
}
