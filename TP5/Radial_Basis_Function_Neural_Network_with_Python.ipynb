{
  "nbformat": 4,
  "nbformat_minor": 0,
  "metadata": {
    "colab": {
      "name": "Radial Basis Function Neural Network with Python.ipynb",
      "provenance": [],
      "collapsed_sections": []
    },
    "kernelspec": {
      "name": "python3",
      "display_name": "Python 3"
    },
    "accelerator": "GPU"
  },
  "cells": [
    {
      "cell_type": "markdown",
      "metadata": {
        "id": "Sknpvx7IPf0Z",
        "colab_type": "text"
      },
      "source": [
        "https://towardsdatascience.com/most-effective-way-to-implement-radial-basis-function-neural-network-for-classification-problem-33c467803319"
      ]
    },
    {
      "cell_type": "code",
      "metadata": {
        "id": "dqaSzipsWy2f",
        "colab_type": "code",
        "colab": {}
      },
      "source": [
        "import numpy as np\n",
        "\n",
        "\n",
        "def get_distance(x1, x2):\n",
        "    sum = 0\n",
        "    for i in range(len(x1)):\n",
        "        sum += (x1[i] - x2[i]) ** 2\n",
        "    return np.sqrt(sum)\n",
        "\n",
        "\n",
        "def kmeans(X, k, max_iters):\n",
        "  \n",
        "    centroids = X[np.random.choice(range(len(X)), k, replace=False)]\n",
        "\n",
        "    converged = False\n",
        "    \n",
        "    current_iter = 0\n",
        "\n",
        "    while (not converged) and (current_iter < max_iters):\n",
        "\n",
        "        cluster_list = [[] for i in range(len(centroids))]\n",
        "\n",
        "        for x in X:  # Go through each data point\n",
        "            distances_list = []\n",
        "            for c in centroids:\n",
        "                distances_list.append(get_distance(c, x))\n",
        "            cluster_list[int(np.argmin(distances_list))].append(x)\n",
        "\n",
        "        cluster_list = list((filter(None, cluster_list)))\n",
        "\n",
        "        prev_centroids = centroids.copy()\n",
        "\n",
        "        centroids = []\n",
        "\n",
        "        for j in range(len(cluster_list)):\n",
        "            centroids.append(np.mean(cluster_list[j], axis=0))\n",
        "\n",
        "        pattern = np.abs(np.sum(prev_centroids) - np.sum(centroids))\n",
        "\n",
        "        print('K-MEANS: ', int(pattern))\n",
        "\n",
        "        converged = (pattern == 0)\n",
        "\n",
        "        current_iter += 1\n",
        "\n",
        "    return np.array(centroids), [np.std(x) for x in cluster_list]"
      ],
      "execution_count": 0,
      "outputs": []
    },
    {
      "cell_type": "code",
      "metadata": {
        "id": "bgFKtZijOaIm",
        "colab_type": "code",
        "colab": {}
      },
      "source": [
        "class RBF:\n",
        "\n",
        "    def __init__(self, X, y, tX, ty, num_of_classes,\n",
        "                 k, std_from_clusters=True):\n",
        "        self.X = X\n",
        "        self.y = y\n",
        "\n",
        "        self.tX = tX\n",
        "        self.ty = ty\n",
        "\n",
        "        self.number_of_classes = num_of_classes\n",
        "        self.k = k\n",
        "        self.std_from_clusters = std_from_clusters\n",
        "\n",
        "    def convert_to_one_hot(self, x, num_of_classes):\n",
        "        arr = np.zeros((len(x), num_of_classes))\n",
        "        for i in range(len(x)):\n",
        "            c = int(x[i])\n",
        "            arr[i][c] = 1\n",
        "        return arr\n",
        "\n",
        "    def rbf(self, x, c, s):\n",
        "        distance = get_distance(x, c)\n",
        "        return 1 / np.exp(-distance / s ** 2)\n",
        "\n",
        "    def rbf_list(self, X, centroids, std_list):\n",
        "        RBF_list = []\n",
        "        for x in X:\n",
        "            RBF_list.append([self.rbf(x, c, s) for (c, s) in zip(centroids, std_list)])\n",
        "        return np.array(RBF_list)\n",
        "\n",
        "    def fit(self):\n",
        "\n",
        "        self.centroids, self.std_list = kmeans(self.X, self.k, max_iters=1000)\n",
        "\n",
        "        if not self.std_from_clusters:\n",
        "            dMax = np.max([get_distance(c1, c2) for c1 in self.centroids for c2 in self.centroids])\n",
        "            self.std_list = np.repeat(dMax / np.sqrt(2 * self.k), self.k)\n",
        "\n",
        "        RBF_X = self.rbf_list(self.X, self.centroids, self.std_list)\n",
        "\n",
        "        self.w = np.linalg.pinv(RBF_X.T @ RBF_X) @ RBF_X.T @ self.convert_to_one_hot(self.y, self.number_of_classes)\n",
        "\n",
        "        RBF_list_tst = self.rbf_list(self.tX, self.centroids, self.std_list)\n",
        "\n",
        "        self.pred_ty = RBF_list_tst @ self.w\n",
        "\n",
        "        self.pred_ty = np.array([np.argmax(x) for x in self.pred_ty])\n",
        "\n",
        "        diff = self.pred_ty - self.ty\n",
        "\n",
        "        print('Accuracy: ', len(np.where(diff == 0)[0]) / len(diff))"
      ],
      "execution_count": 0,
      "outputs": []
    },
    {
      "cell_type": "code",
      "metadata": {
        "id": "Zup_ipYiOgzp",
        "colab_type": "code",
        "outputId": "df043784-ca94-49fb-d264-6e3cf3909c75",
        "colab": {
          "base_uri": "https://localhost:8080/",
          "height": 85
        }
      },
      "source": [
        "data = np.load('mnist_data.npy').astype(float)\n",
        "split = round(0.75 * data.shape[0])\n",
        "\n",
        "train_x = data[:split, 1:]\n",
        "train_y = data[:split, 0]\n",
        "test_x = data[split:, 1:]\n",
        "test_y = data[split:, 0]\n",
        "\n",
        "RBF_CLASSIFIER = RBF(train_x, train_y, test_x, test_y, num_of_classes=10,\n",
        "                     k=500, std_from_clusters=False)\n",
        "\n",
        "RBF_CLASSIFIER.fit()"
      ],
      "execution_count": 5,
      "outputs": [
        {
          "output_type": "stream",
          "text": [
            "K-MEANS:  357\n",
            "K-MEANS:  8\n",
            "K-MEANS:  0\n",
            "Accuracy:  0.84\n"
          ],
          "name": "stdout"
        }
      ]
    },
    {
      "cell_type": "code",
      "metadata": {
        "id": "byyDU4O5wNP4",
        "colab_type": "code",
        "colab": {}
      },
      "source": [
        ""
      ],
      "execution_count": 0,
      "outputs": []
    }
  ]
}