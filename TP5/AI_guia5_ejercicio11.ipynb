{
 "cells": [
  {
   "cell_type": "markdown",
   "metadata": {},
   "source": [
    "En primer lugar, importamos tensorflow."
   ]
  },
  {
   "cell_type": "code",
   "execution_count": 1,
   "metadata": {
    "colab": {},
    "colab_type": "code",
    "id": "f3eehB5MRNjH"
   },
   "outputs": [],
   "source": [
    "import tensorflow as tf"
   ]
  },
  {
   "cell_type": "markdown",
   "metadata": {},
   "source": [
    "Importamos el dataser MNIST desde tensorflow, lo dividimos entre training y validation set y normalizamos los valores de los pixeles para que estén entre 0 y 1 para acelerar el entrenamiento."
   ]
  },
  {
   "cell_type": "code",
   "execution_count": 2,
   "metadata": {
    "colab": {},
    "colab_type": "code",
    "id": "1w64LmE5Rapd"
   },
   "outputs": [],
   "source": [
    "mnist = tf.keras.datasets.mnist\n",
    "(training_images, training_labels), (test_images, test_labels) = mnist.load_data()\n",
    "training_images=training_images.reshape(60000, 28, 28, 1) / 255.0\n",
    "test_images = test_images.reshape(10000, 28, 28, 1) / 255.0"
   ]
  },
  {
   "cell_type": "markdown",
   "metadata": {},
   "source": [
    "Definimos un modelo con dos primeras capas convolucionales con 64 filtros de 3x3 y función de activación 'relu'. Luego agregamos una capa MaxPooling a cada una para reducir la dimensión de la red. \n",
    "\n",
    "Luego entramos a una red fully-conected con 512 nodos y finalmente una capa fully-conected con 10 nodos donde cada nodo representa un número del 0 al 9 con una función softmax para quedarnos con el resultado con la mayor probabilidad."
   ]
  },
  {
   "cell_type": "code",
   "execution_count": 3,
   "metadata": {
    "colab": {},
    "colab_type": "code",
    "id": "xeeQNthtRfRv"
   },
   "outputs": [],
   "source": [
    "model = tf.keras.models.Sequential([\n",
    "    tf.keras.layers.Conv2D(64, (3,3), activation=tf.nn.relu, input_shape=(28, 28, 1)),\n",
    "    tf.keras.layers.MaxPooling2D(2, 2),\n",
    "    tf.keras.layers.Conv2D(64, (3,3), activation=tf.nn.relu),\n",
    "    tf.keras.layers.MaxPooling2D(2, 2),\n",
    "    tf.keras.layers.Flatten(),\n",
    "    tf.keras.layers.Dense(512, activation=tf.nn.relu),\n",
    "    tf.keras.layers.Dense(10, activation=tf.nn.softmax)\n",
    "])"
   ]
  },
  {
   "cell_type": "markdown",
   "metadata": {},
   "source": [
    "Creamos un Callback para que la red deje de entrenar cuando consigamos un accuracy mayor al 99% en el validation set."
   ]
  },
  {
   "cell_type": "code",
   "execution_count": 4,
   "metadata": {},
   "outputs": [],
   "source": [
    "class myCallback(tf.keras.callbacks.Callback):\n",
    "    def on_epoch_end(self, epoch, logs={}):\n",
    "        if(logs.get('val_accuracy') > 0.99):\n",
    "            print(\"\\nAlcanzamos un accuracy mayor al 99% entonces paramos!\")\n",
    "            self.model.stop_training = True\n",
    "\n",
    "callbacks = myCallback()"
   ]
  },
  {
   "cell_type": "markdown",
   "metadata": {},
   "source": [
    "Entrenamos a la red con un optimizador Adam y 10 épocas. Gracias al callback la función se detiene luego de solo 3 épocas con una accuracy mayor al 99% en el validation set!"
   ]
  },
  {
   "cell_type": "code",
   "execution_count": 5,
   "metadata": {
    "colab": {
     "base_uri": "https://localhost:8080/",
     "height": 150
    },
    "colab_type": "code",
    "id": "AC2_VPfyRs9P",
    "outputId": "9b1d2bb3-ab99-4d78-b20f-fe77429d0a19"
   },
   "outputs": [
    {
     "name": "stdout",
     "output_type": "stream",
     "text": [
      "Epoch 1/10\n",
      "1875/1875 [==============================] - 131s 70ms/step - loss: 0.1065 - accuracy: 0.9670 - val_loss: 0.0468 - val_accuracy: 0.9835\n",
      "Epoch 2/10\n",
      "1875/1875 [==============================] - 137s 73ms/step - loss: 0.0367 - accuracy: 0.9880 - val_loss: 0.0354 - val_accuracy: 0.9881\n",
      "Epoch 3/10\n",
      "1875/1875 [==============================] - ETA: 0s - loss: 0.0244 - accuracy: 0.9922\n",
      "Alcanzamos un accuracy mayor al 99% entonces paramos!\n",
      "1875/1875 [==============================] - 129s 69ms/step - loss: 0.0244 - accuracy: 0.9922 - val_loss: 0.0289 - val_accuracy: 0.9910\n"
     ]
    }
   ],
   "source": [
    "model.compile(optimizer='adam', loss='sparse_categorical_crossentropy', metrics=['accuracy'])\n",
    "history = model.fit(training_images, \n",
    "                    training_labels, \n",
    "                    epochs=10, \n",
    "                    validation_data = (test_images, test_labels), \n",
    "                    callbacks=[callbacks])"
   ]
  },
  {
   "cell_type": "code",
   "execution_count": null,
   "metadata": {},
   "outputs": [],
   "source": []
  }
 ],
 "metadata": {
  "accelerator": "GPU",
  "colab": {
   "name": "AI_guia5_ejercicio11.ipynb",
   "provenance": []
  },
  "kernelspec": {
   "display_name": "Python 3",
   "language": "python",
   "name": "python3"
  },
  "language_info": {
   "codemirror_mode": {
    "name": "ipython",
    "version": 3
   },
   "file_extension": ".py",
   "mimetype": "text/x-python",
   "name": "python",
   "nbconvert_exporter": "python",
   "pygments_lexer": "ipython3",
   "version": "3.8.2"
  }
 },
 "nbformat": 4,
 "nbformat_minor": 1
}
