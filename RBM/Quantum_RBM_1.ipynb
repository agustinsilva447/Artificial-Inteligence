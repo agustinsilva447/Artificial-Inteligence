{
  "nbformat": 4,
  "nbformat_minor": 0,
  "metadata": {
    "colab": {
      "name": "Quantum-RBM_1.ipynb",
      "provenance": []
    },
    "kernelspec": {
      "name": "python3",
      "display_name": "Python 3"
    }
  },
  "cells": [
    {
      "cell_type": "code",
      "metadata": {
        "id": "C1bBx7NGE-WK"
      },
      "source": [
        "! pip install qucumber"
      ],
      "execution_count": null,
      "outputs": []
    },
    {
      "cell_type": "code",
      "metadata": {
        "id": "fkWU_ctuETiZ"
      },
      "source": [
        "import numpy as np\n",
        "import matplotlib.pyplot as plt\n",
        "\n",
        "from qucumber.nn_states import PositiveWaveFunction\n",
        "from qucumber.callbacks import MetricEvaluator\n",
        "\n",
        "import qucumber.utils.training_statistics as ts\n",
        "import qucumber.utils.data as data\n",
        "import qucumber"
      ],
      "execution_count": null,
      "outputs": []
    },
    {
      "cell_type": "code",
      "metadata": {
        "id": "FUjPgNF6E9IG"
      },
      "source": [
        "psi_path = \"tfim1d_psi.txt\"\n",
        "train_path = \"tfim1d_data.txt\"\n",
        "train_data, true_psi = data.load_data(train_path, psi_path)"
      ],
      "execution_count": null,
      "outputs": []
    },
    {
      "cell_type": "code",
      "metadata": {
        "id": "N8I5B8eNFLrV"
      },
      "source": [
        "nv = train_data.shape[-1]\n",
        "nh = nv\n",
        "\n",
        "nn_state = PositiveWaveFunction(num_visible=nv, num_hidden=nh, gpu=False)"
      ],
      "execution_count": null,
      "outputs": []
    },
    {
      "cell_type": "code",
      "metadata": {
        "id": "IXrym8GyFOkk"
      },
      "source": [
        "epochs = 500\n",
        "pbs = 100\n",
        "nbs = pbs\n",
        "lr = 0.01\n",
        "k = 10"
      ],
      "execution_count": null,
      "outputs": []
    },
    {
      "cell_type": "code",
      "metadata": {
        "id": "TyDJiF7OFROw"
      },
      "source": [
        "def psi_coefficient(nn_state, space, A, **kwargs):\n",
        "    norm = nn_state.compute_normalization(space).sqrt_()\n",
        "    return A * nn_state.psi(space)[0][4] / norm"
      ],
      "execution_count": null,
      "outputs": []
    },
    {
      "cell_type": "code",
      "metadata": {
        "id": "04Xmg0eaFTTu"
      },
      "source": [
        "period = 10\n",
        "space = nn_state.generate_hilbert_space()"
      ],
      "execution_count": null,
      "outputs": []
    },
    {
      "cell_type": "code",
      "metadata": {
        "id": "tKLX_y3xFU8O",
        "outputId": "9b05b386-9aee-4dc6-e106-241554bd320b",
        "colab": {
          "base_uri": "https://localhost:8080/",
          "height": 884
        }
      },
      "source": [
        "callbacks = [\n",
        "    MetricEvaluator(\n",
        "        period,\n",
        "        {\"Fidelity\": ts.fidelity, \"KL\": ts.KL, \"A_Ψrbm_5\": psi_coefficient},\n",
        "        target=true_psi,\n",
        "        verbose=True,\n",
        "        space=space,\n",
        "        A=3.0,\n",
        "    )\n",
        "]\n",
        "\n",
        "nn_state.fit(\n",
        "    train_data,\n",
        "    epochs=epochs,\n",
        "    pos_batch_size=pbs,\n",
        "    neg_batch_size=nbs,\n",
        "    lr=lr,\n",
        "    k=k,\n",
        "    callbacks=callbacks,\n",
        "    time=True,\n",
        ")"
      ],
      "execution_count": null,
      "outputs": [
        {
          "output_type": "stream",
          "text": [
            "Epoch: 10\tFidelity = 0.534832\tKL = 1.251607\tA_Ψrbm_5 = 0.109454\n",
            "Epoch: 20\tFidelity = 0.626960\tKL = 0.884104\tA_Ψrbm_5 = 0.153996\n",
            "Epoch: 30\tFidelity = 0.730629\tKL = 0.586483\tA_Ψrbm_5 = 0.195509\n",
            "Epoch: 40\tFidelity = 0.798099\tKL = 0.432933\tA_Ψrbm_5 = 0.223553\n",
            "Epoch: 50\tFidelity = 0.837640\tKL = 0.338775\tA_Ψrbm_5 = 0.235621\n",
            "Epoch: 60\tFidelity = 0.870679\tKL = 0.262989\tA_Ψrbm_5 = 0.240179\n",
            "Epoch: 70\tFidelity = 0.893492\tKL = 0.212991\tA_Ψrbm_5 = 0.236223\n",
            "Epoch: 80\tFidelity = 0.910290\tKL = 0.179548\tA_Ψrbm_5 = 0.240323\n",
            "Epoch: 90\tFidelity = 0.922206\tKL = 0.155981\tA_Ψrbm_5 = 0.237925\n",
            "Epoch: 100\tFidelity = 0.931549\tKL = 0.137175\tA_Ψrbm_5 = 0.238603\n",
            "Epoch: 110\tFidelity = 0.938568\tKL = 0.122354\tA_Ψrbm_5 = 0.232190\n",
            "Epoch: 120\tFidelity = 0.945220\tKL = 0.108639\tA_Ψrbm_5 = 0.229719\n",
            "Epoch: 130\tFidelity = 0.950264\tKL = 0.098477\tA_Ψrbm_5 = 0.228876\n",
            "Epoch: 140\tFidelity = 0.954680\tKL = 0.089989\tA_Ψrbm_5 = 0.230366\n",
            "Epoch: 150\tFidelity = 0.958187\tKL = 0.083252\tA_Ψrbm_5 = 0.227182\n",
            "Epoch: 160\tFidelity = 0.960810\tKL = 0.078413\tA_Ψrbm_5 = 0.223495\n",
            "Epoch: 170\tFidelity = 0.962352\tKL = 0.075621\tA_Ψrbm_5 = 0.220543\n",
            "Epoch: 180\tFidelity = 0.964117\tKL = 0.072564\tA_Ψrbm_5 = 0.223584\n",
            "Epoch: 190\tFidelity = 0.965184\tKL = 0.070713\tA_Ψrbm_5 = 0.223196\n",
            "Epoch: 200\tFidelity = 0.966376\tKL = 0.068683\tA_Ψrbm_5 = 0.225980\n",
            "Epoch: 210\tFidelity = 0.967150\tKL = 0.067312\tA_Ψrbm_5 = 0.226552\n",
            "Epoch: 220\tFidelity = 0.967931\tKL = 0.065817\tA_Ψrbm_5 = 0.231124\n",
            "Epoch: 230\tFidelity = 0.967726\tKL = 0.066227\tA_Ψrbm_5 = 0.219472\n",
            "Epoch: 240\tFidelity = 0.969067\tKL = 0.063670\tA_Ψrbm_5 = 0.226950\n",
            "Epoch: 250\tFidelity = 0.968711\tKL = 0.064600\tA_Ψrbm_5 = 0.235995\n",
            "Epoch: 260\tFidelity = 0.970360\tKL = 0.061201\tA_Ψrbm_5 = 0.230522\n",
            "Epoch: 270\tFidelity = 0.971015\tKL = 0.059890\tA_Ψrbm_5 = 0.226438\n",
            "Epoch: 280\tFidelity = 0.971490\tKL = 0.058899\tA_Ψrbm_5 = 0.227240\n",
            "Epoch: 290\tFidelity = 0.971949\tKL = 0.057815\tA_Ψrbm_5 = 0.229503\n",
            "Epoch: 300\tFidelity = 0.972806\tKL = 0.056067\tA_Ψrbm_5 = 0.229865\n",
            "Epoch: 310\tFidelity = 0.973388\tKL = 0.054801\tA_Ψrbm_5 = 0.230495\n",
            "Epoch: 320\tFidelity = 0.973932\tKL = 0.053502\tA_Ψrbm_5 = 0.230992\n",
            "Epoch: 330\tFidelity = 0.974652\tKL = 0.051936\tA_Ψrbm_5 = 0.228056\n",
            "Epoch: 340\tFidelity = 0.975226\tKL = 0.050670\tA_Ψrbm_5 = 0.230452\n",
            "Epoch: 350\tFidelity = 0.976108\tKL = 0.048926\tA_Ψrbm_5 = 0.238756\n",
            "Epoch: 360\tFidelity = 0.976872\tKL = 0.047035\tA_Ψrbm_5 = 0.232781\n",
            "Epoch: 370\tFidelity = 0.977603\tKL = 0.045649\tA_Ψrbm_5 = 0.235737\n",
            "Epoch: 380\tFidelity = 0.978490\tKL = 0.043591\tA_Ψrbm_5 = 0.228759\n",
            "Epoch: 390\tFidelity = 0.979365\tKL = 0.041665\tA_Ψrbm_5 = 0.233148\n",
            "Epoch: 400\tFidelity = 0.979745\tKL = 0.040832\tA_Ψrbm_5 = 0.223424\n",
            "Epoch: 410\tFidelity = 0.980699\tKL = 0.038874\tA_Ψrbm_5 = 0.227766\n",
            "Epoch: 420\tFidelity = 0.981601\tKL = 0.037021\tA_Ψrbm_5 = 0.230399\n",
            "Epoch: 430\tFidelity = 0.982120\tKL = 0.035938\tA_Ψrbm_5 = 0.231703\n",
            "Epoch: 440\tFidelity = 0.982624\tKL = 0.034792\tA_Ψrbm_5 = 0.221910\n",
            "Epoch: 450\tFidelity = 0.983431\tKL = 0.033140\tA_Ψrbm_5 = 0.224721\n",
            "Epoch: 460\tFidelity = 0.983914\tKL = 0.032256\tA_Ψrbm_5 = 0.224584\n",
            "Epoch: 470\tFidelity = 0.984233\tKL = 0.031502\tA_Ψrbm_5 = 0.228503\n",
            "Epoch: 480\tFidelity = 0.985032\tKL = 0.030090\tA_Ψrbm_5 = 0.230163\n",
            "Epoch: 490\tFidelity = 0.985446\tKL = 0.029206\tA_Ψrbm_5 = 0.226808\n",
            "Epoch: 500\tFidelity = 0.985860\tKL = 0.028377\tA_Ψrbm_5 = 0.227480\n",
            "Total time elapsed during training: 79.875 s\n"
          ],
          "name": "stdout"
        }
      ]
    },
    {
      "cell_type": "code",
      "metadata": {
        "id": "ehHlkGHHFXUP"
      },
      "source": [
        "# Note that the key given to the *MetricEvaluator* must be\n",
        "# what comes after callbacks[0].\n",
        "fidelities = callbacks[0].Fidelity\n",
        "\n",
        "# Alternatively, we can use the usual dictionary/list subsripting\n",
        "# syntax. This is useful in cases where the name of the\n",
        "# metric contains special characters or spaces.\n",
        "KLs = callbacks[0][\"KL\"]\n",
        "coeffs = callbacks[0][\"A_Ψrbm_5\"]\n",
        "\n",
        "epoch = np.arange(period, epochs + 1, period)"
      ],
      "execution_count": null,
      "outputs": []
    },
    {
      "cell_type": "code",
      "metadata": {
        "id": "gDcjC4gjFgsS",
        "outputId": "b7a21385-383e-473c-d0e5-138ce72f78f6",
        "colab": {
          "base_uri": "https://localhost:8080/",
          "height": 226
        }
      },
      "source": [
        "# Plotting\n",
        "fig, axs = plt.subplots(nrows=1, ncols=3, figsize=(14, 3))\n",
        "\n",
        "ax = axs[0]\n",
        "ax.plot(epoch, fidelities, \"o\", color=\"C0\", markeredgecolor=\"black\")\n",
        "ax.set_ylabel(\"Fidelity\")\n",
        "ax.set_xlabel(\"Epoch\")\n",
        "\n",
        "ax = axs[1]\n",
        "ax.plot(epoch, KLs, \"o\", color=\"C1\", markeredgecolor=\"black\")\n",
        "ax.set_ylabel(\"KL Divergence\")\n",
        "ax.set_xlabel(\"Epoch\")\n",
        "\n",
        "ax = axs[2]\n",
        "ax.plot(epoch, coeffs, \"o\", color=\"C2\", markeredgecolor=\"black\")\n",
        "ax.set_ylabel(\"A_RBM[5]$\")\n",
        "ax.set_xlabel(\"Epoch\")\n",
        "\n",
        "plt.show()"
      ],
      "execution_count": null,
      "outputs": [
        {
          "output_type": "display_data",
          "data": {
            "image/png": "[encoded data removed]",
            "text/plain": [
              "<Figure size 1008x216 with 3 Axes>"
            ]
          },
          "metadata": {
            "tags": [],
            "needs_background": "light"
          }
        }
      ]
    },
    {
      "cell_type": "code",
      "metadata": {
        "id": "1pycqOTFIH79"
      },
      "source": [
        "nn_state.save(\"saved_params.pt\")"
      ],
      "execution_count": null,
      "outputs": []
    },
    {
      "cell_type": "code",
      "metadata": {
        "id": "6VmCq4tyIKWm"
      },
      "source": [
        ""
      ],
      "execution_count": null,
      "outputs": []
    }
  ]
}