{
  "nbformat": 4,
  "nbformat_minor": 0,
  "metadata": {
    "colab": {
      "name": "Quantum-RBM_3.ipynb",
      "provenance": [],
      "collapsed_sections": []
    },
    "kernelspec": {
      "name": "python3",
      "display_name": "Python 3"
    }
  },
  "cells": [
    {
      "cell_type": "code",
      "metadata": {
        "id": "zVOnttyeJdBY"
      },
      "source": [
        "! pip install qucumber"
      ],
      "execution_count": null,
      "outputs": []
    },
    {
      "cell_type": "code",
      "metadata": {
        "id": "8gej90YNJhUj"
      },
      "source": [
        "import numpy as np\n",
        "import matplotlib.pyplot as plt\n",
        "\n",
        "import torch\n",
        "\n",
        "from qucumber.nn_states import DensityMatrix\n",
        "\n",
        "from qucumber.callbacks import MetricEvaluator\n",
        "import qucumber.utils.unitaries as unitaries\n",
        "\n",
        "import qucumber.utils.training_statistics as ts\n",
        "import qucumber.utils.data as data\n",
        "import qucumber"
      ],
      "execution_count": null,
      "outputs": []
    },
    {
      "cell_type": "code",
      "metadata": {
        "id": "bRMYPzyvJpzE"
      },
      "source": [
        "train_path = \"N2_W_state_100_samples_data.txt\"\n",
        "train_bases_path = \"N2_W_state_100_samples_bases.txt\"\n",
        "matrix_path_real = \"N2_W_state_target_real.txt\"\n",
        "matrix_path_imag = \"N2_W_state_target_imag.txt\"\n",
        "bases_path = \"N2_IC_bases.txt\"\n",
        "\n",
        "\n",
        "train_samples, true_matrix, train_bases, bases = data.load_data_DM(\n",
        "    train_path, matrix_path_real, matrix_path_imag, train_bases_path, bases_path\n",
        ")"
      ],
      "execution_count": null,
      "outputs": []
    },
    {
      "cell_type": "code",
      "metadata": {
        "id": "OkmW4J1EJtNM"
      },
      "source": [
        "unitary_dict = unitaries.create_dict()\n",
        "# unitary_dict = unitaries.create_dict(unitary_name=torch.tensor([[real part],\n",
        "#                                                                 [imaginary part]],\n",
        "#                                                                 dtype=torch.double)"
      ],
      "execution_count": null,
      "outputs": []
    },
    {
      "cell_type": "code",
      "metadata": {
        "id": "t-P_vLlzJvYl"
      },
      "source": [
        "nv = train_samples.shape[-1]\n",
        "nh = na = nv\n",
        "\n",
        "nn_state = DensityMatrix(\n",
        "    num_visible=nv, num_hidden=nh, num_aux=na, unitary_dict=unitary_dict, gpu=False\n",
        ")"
      ],
      "execution_count": null,
      "outputs": []
    },
    {
      "cell_type": "code",
      "metadata": {
        "id": "aLEBVQUcJw0A"
      },
      "source": [
        "epochs = 500\n",
        "pbs = 100  # pos_batch_size\n",
        "nbs = pbs  # neg_batch_size\n",
        "lr = 10\n",
        "k = 10\n",
        "lr_drop_epoch = 125\n",
        "lr_drop_factor = 0.5"
      ],
      "execution_count": null,
      "outputs": []
    },
    {
      "cell_type": "code",
      "metadata": {
        "id": "TSs4gJuEJz6Z"
      },
      "source": [
        "def partition(nn_state, space, **kwargs):\n",
        "    return nn_state.rbm_am.partition(space)"
      ],
      "execution_count": null,
      "outputs": []
    },
    {
      "cell_type": "code",
      "metadata": {
        "id": "FQByNknrJ1iv"
      },
      "source": [
        "period = 25\n",
        "space = nn_state.generate_hilbert_space()\n",
        "\n",
        "callbacks = [\n",
        "    MetricEvaluator(\n",
        "        period,\n",
        "        {\n",
        "            \"Fidelity\": ts.fidelity,\n",
        "            \"KL\": ts.KL,\n",
        "            # \"Partition Function\": partition,\n",
        "        },\n",
        "        target=true_matrix,\n",
        "        bases=bases,\n",
        "        verbose=True,\n",
        "        space=space,\n",
        "    )\n",
        "]"
      ],
      "execution_count": null,
      "outputs": []
    },
    {
      "cell_type": "code",
      "metadata": {
        "id": "RUzz2WC2J2-Z",
        "outputId": "8661cbe7-66f8-4f74-de58-91c1f550052b",
        "colab": {
          "base_uri": "https://localhost:8080/",
          "height": 374
        }
      },
      "source": [
        "nn_state.fit(\n",
        "    data=train_samples,\n",
        "    input_bases=train_bases,\n",
        "    epochs=epochs,\n",
        "    pos_batch_size=pbs,\n",
        "    neg_batch_size=nbs,\n",
        "    lr=lr,\n",
        "    k=k,\n",
        "    bases=bases,\n",
        "    callbacks=callbacks,\n",
        "    time=True,\n",
        "    optimizer=torch.optim.Adadelta,\n",
        "    scheduler=torch.optim.lr_scheduler.StepLR,\n",
        "    scheduler_args={\"step_size\": lr_drop_epoch, \"gamma\": lr_drop_factor},\n",
        ")"
      ],
      "execution_count": null,
      "outputs": [
        {
          "output_type": "stream",
          "text": [
            "Epoch: 25\tFidelity = 0.812096\tKL = 0.058345\n",
            "Epoch: 50\tFidelity = 0.921134\tKL = 0.025325\n",
            "Epoch: 75\tFidelity = 0.953694\tKL = 0.016185\n",
            "Epoch: 100\tFidelity = 0.962641\tKL = 0.011825\n",
            "Epoch: 125\tFidelity = 0.967691\tKL = 0.011329\n",
            "Epoch: 150\tFidelity = 0.963026\tKL = 0.016241\n",
            "Epoch: 175\tFidelity = 0.966871\tKL = 0.011842\n",
            "Epoch: 200\tFidelity = 0.968969\tKL = 0.009766\n",
            "Epoch: 225\tFidelity = 0.971531\tKL = 0.009492\n",
            "Epoch: 250\tFidelity = 0.969102\tKL = 0.011085\n",
            "Epoch: 275\tFidelity = 0.972579\tKL = 0.008959\n",
            "Epoch: 300\tFidelity = 0.969316\tKL = 0.010581\n",
            "Epoch: 325\tFidelity = 0.971396\tKL = 0.008694\n",
            "Epoch: 350\tFidelity = 0.970907\tKL = 0.009613\n",
            "Epoch: 375\tFidelity = 0.966914\tKL = 0.011451\n",
            "Epoch: 400\tFidelity = 0.973038\tKL = 0.008630\n",
            "Epoch: 425\tFidelity = 0.970127\tKL = 0.009940\n",
            "Epoch: 450\tFidelity = 0.970290\tKL = 0.009861\n",
            "Epoch: 475\tFidelity = 0.972642\tKL = 0.008852\n",
            "Epoch: 500\tFidelity = 0.971672\tKL = 0.010061\n",
            "Total time elapsed during training: 169.185 s\n"
          ],
          "name": "stdout"
        }
      ]
    },
    {
      "cell_type": "code",
      "metadata": {
        "id": "wGqd1PTeJ6JG"
      },
      "source": [
        "fidelities = callbacks[0][\"Fidelity\"]\n",
        "KLs = callbacks[0][\"KL\"]\n",
        "epoch = np.arange(period, epochs + 1, period)"
      ],
      "execution_count": null,
      "outputs": []
    },
    {
      "cell_type": "code",
      "metadata": {
        "id": "11nUr9pkJ8yf",
        "outputId": "d85fe64c-58e4-4446-9f90-9305b2799d10",
        "colab": {
          "base_uri": "https://localhost:8080/",
          "height": 246
        }
      },
      "source": [
        "fig, axs = plt.subplots(nrows=1, ncols=2, figsize=(14, 3))\n",
        "ax = axs[0]\n",
        "ax.plot(epoch, fidelities, \"o\", color=\"C0\", markeredgecolor=\"black\")\n",
        "ax.set_ylabel(r\"Fidelity\")\n",
        "ax.set_xlabel(r\"Epoch\")\n",
        "ax.set_ylim(0.75, 1.00)\n",
        "\n",
        "ax = axs[1]\n",
        "ax.plot(epoch, KLs, \"o\", color=\"C1\", markeredgecolor=\"black\")\n",
        "ax.set_ylabel(r\"KL Divergence\")\n",
        "ax.set_xlabel(r\"Epoch\")"
      ],
      "execution_count": null,
      "outputs": [
        {
          "output_type": "execute_result",
          "data": {
            "text/plain": [
              "Text(0.5, 0, 'Epoch')"
            ]
          },
          "metadata": {
            "tags": []
          },
          "execution_count": 11
        },
        {
          "output_type": "display_data",
          "data": {
            "image/png": "[encoded data removed]",
            "text/plain": [
              "<Figure size 1008x216 with 2 Axes>"
            ]
          },
          "metadata": {
            "tags": [],
            "needs_background": "light"
          }
        }
      ]
    },
    {
      "cell_type": "code",
      "metadata": {
        "id": "wfF2j3AyJ_qq"
      },
      "source": [
        "nn_state.save(\"saved_params_W_state.pt\")"
      ],
      "execution_count": null,
      "outputs": []
    },
    {
      "cell_type": "code",
      "metadata": {
        "id": "HNVk3PhBKB8f"
      },
      "source": [
        ""
      ],
      "execution_count": null,
      "outputs": []
    }
  ]
}