{
  "nbformat": 4,
  "nbformat_minor": 0,
  "metadata": {
    "colab": {
      "name": "Quantum-RBM_2.ipynb",
      "provenance": []
    },
    "kernelspec": {
      "name": "python3",
      "display_name": "Python 3"
    }
  },
  "cells": [
    {
      "cell_type": "code",
      "metadata": {
        "id": "9zI9zZluIg9D"
      },
      "source": [
        "! pip install qucumber"
      ],
      "execution_count": null,
      "outputs": []
    },
    {
      "cell_type": "code",
      "metadata": {
        "id": "BjEYRgg4Iseg"
      },
      "source": [
        "import numpy as np\n",
        "import torch\n",
        "import matplotlib.pyplot as plt\n",
        "\n",
        "from qucumber.nn_states import ComplexWaveFunction\n",
        "\n",
        "from qucumber.callbacks import MetricEvaluator\n",
        "\n",
        "import qucumber.utils.unitaries as unitaries\n",
        "import qucumber.utils.cplx as cplx\n",
        "\n",
        "import qucumber.utils.training_statistics as ts\n",
        "import qucumber.utils.data as data\n",
        "import qucumber"
      ],
      "execution_count": null,
      "outputs": []
    },
    {
      "cell_type": "code",
      "metadata": {
        "id": "6U9Dj6RQI2uT"
      },
      "source": [
        "train_path = \"qubits_train.txt\"\n",
        "train_bases_path = \"qubits_train_bases.txt\"\n",
        "psi_path = \"qubits_psi.txt\"\n",
        "bases_path = \"qubits_bases.txt\"\n",
        "\n",
        "train_samples, true_psi, train_bases, bases = data.load_data(\n",
        "    train_path, psi_path, train_bases_path, bases_path\n",
        ")"
      ],
      "execution_count": null,
      "outputs": []
    },
    {
      "cell_type": "code",
      "metadata": {
        "id": "UXh2o7-uI4oJ"
      },
      "source": [
        "unitary_dict = unitaries.create_dict()\n",
        "# unitary_dict = unitaries.create_dict(<unitary_name>=torch.tensor([[real part],\n",
        "#                                                                   [imaginary part]],\n",
        "#                                                                  dtype=torch.double)"
      ],
      "execution_count": null,
      "outputs": []
    },
    {
      "cell_type": "code",
      "metadata": {
        "id": "RmWVEEh-I6u1"
      },
      "source": [
        "\n",
        "nv = train_samples.shape[-1]\n",
        "nh = nv\n",
        "\n",
        "nn_state = ComplexWaveFunction(\n",
        "    num_visible=nv, num_hidden=nh, unitary_dict=unitary_dict, gpu=False\n",
        ")"
      ],
      "execution_count": null,
      "outputs": []
    },
    {
      "cell_type": "code",
      "metadata": {
        "id": "dwhvIwmPI9Dv"
      },
      "source": [
        "epochs = 500\n",
        "pbs = 100  # pos_batch_size\n",
        "nbs = pbs  # neg_batch_size\n",
        "lr = 0.1\n",
        "k = 10"
      ],
      "execution_count": null,
      "outputs": []
    },
    {
      "cell_type": "code",
      "metadata": {
        "id": "oLxXI-DNI-mX"
      },
      "source": [
        "\n",
        "def alpha(nn_state, space, **kwargs):\n",
        "    rbm_psi = nn_state.psi(space)\n",
        "    normalization = nn_state.normalization(space).sqrt_()\n",
        "    alpha_ = cplx.norm(\n",
        "        torch.tensor([rbm_psi[0][0], rbm_psi[1][0]], device=nn_state.device)\n",
        "        / normalization\n",
        "    )\n",
        "\n",
        "    return alpha_\n",
        "\n",
        "\n",
        "def beta(nn_state, space, **kwargs):\n",
        "    rbm_psi = nn_state.psi(space)\n",
        "    normalization = nn_state.normalization(space).sqrt_()\n",
        "    beta_ = cplx.norm(\n",
        "        torch.tensor([rbm_psi[0][1], rbm_psi[1][1]], device=nn_state.device)\n",
        "        / normalization\n",
        "    )\n",
        "\n",
        "    return beta_\n",
        "\n",
        "\n",
        "def gamma(nn_state, space, **kwargs):\n",
        "    rbm_psi = nn_state.psi(space)\n",
        "    normalization = nn_state.normalization(space).sqrt_()\n",
        "    gamma_ = cplx.norm(\n",
        "        torch.tensor([rbm_psi[0][2], rbm_psi[1][2]], device=nn_state.device)\n",
        "        / normalization\n",
        "    )\n",
        "\n",
        "    return gamma_\n",
        "\n",
        "\n",
        "def delta(nn_state, space, **kwargs):\n",
        "    rbm_psi = nn_state.psi(space)\n",
        "    normalization = nn_state.normalization(space).sqrt_()\n",
        "    delta_ = cplx.norm(\n",
        "        torch.tensor([rbm_psi[0][3], rbm_psi[1][3]], device=nn_state.device)\n",
        "        / normalization\n",
        "    )\n",
        "\n",
        "    return delta_"
      ],
      "execution_count": null,
      "outputs": []
    },
    {
      "cell_type": "code",
      "metadata": {
        "id": "54FyIGQ0JDal"
      },
      "source": [
        "\n",
        "period = 25\n",
        "space = nn_state.generate_hilbert_space()\n",
        "\n",
        "callbacks = [\n",
        "    MetricEvaluator(\n",
        "        period,\n",
        "        {\n",
        "            \"Fidelity\": ts.fidelity,\n",
        "            \"KL\": ts.KL,\n",
        "            \"normα\": alpha,\n",
        "            # \"normβ\": beta,\n",
        "            # \"normγ\": gamma,\n",
        "            # \"normδ\": delta,\n",
        "        },\n",
        "        target=true_psi,\n",
        "        bases=bases,\n",
        "        verbose=True,\n",
        "        space=space,\n",
        "    )\n",
        "]"
      ],
      "execution_count": null,
      "outputs": []
    },
    {
      "cell_type": "code",
      "metadata": {
        "id": "xPZDvwzZJFby",
        "outputId": "7ad8a3da-8dee-4e8d-ee2b-c7030d1c1abe",
        "colab": {
          "base_uri": "https://localhost:8080/",
          "height": 374
        }
      },
      "source": [
        "nn_state.fit(\n",
        "    train_samples,\n",
        "    epochs=epochs,\n",
        "    pos_batch_size=pbs,\n",
        "    neg_batch_size=nbs,\n",
        "    lr=lr,\n",
        "    k=k,\n",
        "    input_bases=train_bases,\n",
        "    callbacks=callbacks,\n",
        "    time=True,\n",
        ")"
      ],
      "execution_count": null,
      "outputs": [
        {
          "output_type": "stream",
          "text": [
            "Epoch: 25\tFidelity = 0.738674\tKL = 0.148394\tnormα = 0.242037\n",
            "Epoch: 50\tFidelity = 0.951741\tKL = 0.025630\tnormα = 0.271605\n",
            "Epoch: 75\tFidelity = 0.978811\tKL = 0.014960\tnormα = 0.269267\n",
            "Epoch: 100\tFidelity = 0.986592\tKL = 0.011239\tnormα = 0.268264\n",
            "Epoch: 125\tFidelity = 0.987753\tKL = 0.010987\tnormα = 0.269122\n",
            "Epoch: 150\tFidelity = 0.990042\tKL = 0.009163\tnormα = 0.263637\n",
            "Epoch: 175\tFidelity = 0.990600\tKL = 0.008327\tnormα = 0.272158\n",
            "Epoch: 200\tFidelity = 0.990702\tKL = 0.008235\tnormα = 0.269554\n",
            "Epoch: 225\tFidelity = 0.991401\tKL = 0.007531\tnormα = 0.281577\n",
            "Epoch: 250\tFidelity = 0.991185\tKL = 0.007693\tnormα = 0.263600\n",
            "Epoch: 275\tFidelity = 0.991774\tKL = 0.006828\tnormα = 0.272830\n",
            "Epoch: 300\tFidelity = 0.991607\tKL = 0.006966\tnormα = 0.271227\n",
            "Epoch: 325\tFidelity = 0.992302\tKL = 0.006213\tnormα = 0.271707\n",
            "Epoch: 350\tFidelity = 0.992373\tKL = 0.006371\tnormα = 0.262661\n",
            "Epoch: 375\tFidelity = 0.992602\tKL = 0.005850\tnormα = 0.271636\n",
            "Epoch: 400\tFidelity = 0.992944\tKL = 0.005378\tnormα = 0.273435\n",
            "Epoch: 425\tFidelity = 0.993178\tKL = 0.005281\tnormα = 0.263680\n",
            "Epoch: 450\tFidelity = 0.992976\tKL = 0.005208\tnormα = 0.271488\n",
            "Epoch: 475\tFidelity = 0.992738\tKL = 0.005517\tnormα = 0.265396\n",
            "Epoch: 500\tFidelity = 0.993127\tKL = 0.005005\tnormα = 0.266950\n",
            "Total time elapsed during training: 43.415 s\n"
          ],
          "name": "stdout"
        }
      ]
    },
    {
      "cell_type": "code",
      "metadata": {
        "id": "wrgVUPK4JHZZ"
      },
      "source": [
        "# Note that the key given to the *MetricEvaluator* must be\n",
        "# what comes after callbacks[0].\n",
        "fidelities = callbacks[0].Fidelity\n",
        "\n",
        "# Alternatively, we may use the usual dictionary/list subscripting\n",
        "# syntax. This is useful in cases where the name of the metric\n",
        "# may contain special characters or spaces.\n",
        "KLs = callbacks[0][\"KL\"]\n",
        "coeffs = callbacks[0][\"normα\"]\n",
        "epoch = np.arange(period, epochs + 1, period)"
      ],
      "execution_count": null,
      "outputs": []
    },
    {
      "cell_type": "code",
      "metadata": {
        "id": "IkzOYlAqJMPr",
        "outputId": "ad3e8ebf-3922-4544-f419-cfb739430233",
        "colab": {
          "base_uri": "https://localhost:8080/",
          "height": 225
        }
      },
      "source": [
        "fig, axs = plt.subplots(nrows=1, ncols=3, figsize=(14, 3))\n",
        "ax = axs[0]\n",
        "ax.plot(epoch, fidelities, \"o\", color=\"C0\", markeredgecolor=\"black\")\n",
        "ax.set_ylabel(r\"Fidelity\")\n",
        "ax.set_xlabel(r\"Epoch\")\n",
        "\n",
        "ax = axs[1]\n",
        "ax.plot(epoch, KLs, \"o\", color=\"C1\", markeredgecolor=\"black\")\n",
        "ax.set_ylabel(r\"KL Divergence\")\n",
        "ax.set_xlabel(r\"Epoch\")\n",
        "\n",
        "ax = axs[2]\n",
        "ax.plot(epoch, coeffs, \"o\", color=\"C2\", markeredgecolor=\"black\")\n",
        "ax.set_ylabel(r\"alpha\")\n",
        "ax.set_xlabel(r\"Epoch\")\n",
        "\n",
        "plt.tight_layout()\n",
        "plt.show()"
      ],
      "execution_count": null,
      "outputs": [
        {
          "output_type": "display_data",
          "data": {
            "image/png": "[encoded data removed]",
            "text/plain": [
              "<Figure size 1008x216 with 3 Axes>"
            ]
          },
          "metadata": {
            "tags": [],
            "needs_background": "light"
          }
        }
      ]
    },
    {
      "cell_type": "code",
      "metadata": {
        "id": "rdiuiLI4JSlt"
      },
      "source": [
        "nn_state.save(\"saved_params.pt\")"
      ],
      "execution_count": null,
      "outputs": []
    },
    {
      "cell_type": "code",
      "metadata": {
        "id": "AsrWo22zJWH7"
      },
      "source": [
        ""
      ],
      "execution_count": null,
      "outputs": []
    }
  ]
}