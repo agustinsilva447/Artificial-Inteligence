{
  "nbformat": 4,
  "nbformat_minor": 0,
  "metadata": {
    "colab": {
      "name": "ejercicio_12_c.ipynb",
      "provenance": []
    },
    "kernelspec": {
      "name": "python3",
      "display_name": "Python 3"
    }
  },
  "cells": [
    {
      "cell_type": "markdown",
      "metadata": {
        "id": "Q64oONQ_PZ0H",
        "colab_type": "text"
      },
      "source": [
        "Resolución ejercicio 12)c) de la guía de algoritmos genéticos.\n",
        "\n",
        "Para la resolución voy a utilizar una librería que encontré en un libro que se llama \"deap\". Tiene muchas herramientas pero algunas de las que vimos en la materia no. Por lo tanto, agregué algunas funciones que explicaré a medida que avanza el ejercicio. También explicaré las funciones que sí tiene la librería.\n",
        "\n",
        "En primer lugar, instalaré la librería con la función \"pip\"."
      ]
    },
    {
      "cell_type": "code",
      "metadata": {
        "id": "GiSUZQtNFGLN",
        "colab_type": "code",
        "colab": {
          "base_uri": "https://localhost:8080/",
          "height": 139
        },
        "outputId": "e3197e5a-695d-421f-e30e-bdcfb00c8915"
      },
      "source": [
        "!pip install deap"
      ],
      "execution_count": 1,
      "outputs": [
        {
          "output_type": "stream",
          "text": [
            "Collecting deap\n",
            "\u001b[?25l  Downloading https://files.pythonhosted.org/packages/0a/eb/2bd0a32e3ce757fb26264765abbaedd6d4d3640d90219a513aeabd08ee2b/deap-1.3.1-cp36-cp36m-manylinux2010_x86_64.whl (157kB)\n",
            "\r\u001b[K     |██                              | 10kB 13.5MB/s eta 0:00:01\r\u001b[K     |████▏                           | 20kB 1.7MB/s eta 0:00:01\r\u001b[K     |██████▎                         | 30kB 2.2MB/s eta 0:00:01\r\u001b[K     |████████▍                       | 40kB 2.4MB/s eta 0:00:01\r\u001b[K     |██████████▍                     | 51kB 2.0MB/s eta 0:00:01\r\u001b[K     |████████████▌                   | 61kB 2.2MB/s eta 0:00:01\r\u001b[K     |██████████████▋                 | 71kB 2.4MB/s eta 0:00:01\r\u001b[K     |████████████████▊               | 81kB 2.7MB/s eta 0:00:01\r\u001b[K     |██████████████████▊             | 92kB 2.8MB/s eta 0:00:01\r\u001b[K     |████████████████████▉           | 102kB 2.7MB/s eta 0:00:01\r\u001b[K     |███████████████████████         | 112kB 2.7MB/s eta 0:00:01\r\u001b[K     |█████████████████████████       | 122kB 2.7MB/s eta 0:00:01\r\u001b[K     |███████████████████████████▏    | 133kB 2.7MB/s eta 0:00:01\r\u001b[K     |█████████████████████████████▏  | 143kB 2.7MB/s eta 0:00:01\r\u001b[K     |███████████████████████████████▎| 153kB 2.7MB/s eta 0:00:01\r\u001b[K     |████████████████████████████████| 163kB 2.7MB/s \n",
            "\u001b[?25hRequirement already satisfied: numpy in /usr/local/lib/python3.6/dist-packages (from deap) (1.18.3)\n",
            "Installing collected packages: deap\n",
            "Successfully installed deap-1.3.1\n"
          ],
          "name": "stdout"
        }
      ]
    },
    {
      "cell_type": "markdown",
      "metadata": {
        "id": "5Xt0Hy-9Piuv",
        "colab_type": "text"
      },
      "source": [
        "En segundo lugar, importaré algunas funciones de la librería \"deap\" junto con otras funciones ya conocidas y utilizadas anteriormente para hacer cálculos y gráficos.\n",
        "\n",
        "Es importante destacar la lines \"import elitism\", que es un archivo que nos va a permitir utilizar el elitismo a la hora de la selección. Más adelante desarrollaremos."
      ]
    },
    {
      "cell_type": "code",
      "metadata": {
        "id": "cVlHdrOVFLHm",
        "colab_type": "code",
        "colab": {}
      },
      "source": [
        "from deap import base\n",
        "from deap import creator\n",
        "from deap import tools\n",
        "\n",
        "import random\n",
        "import numpy as np\n",
        "import matplotlib.pyplot as plt\n",
        "import math\n",
        "import seaborn as sns\n",
        "import elitism"
      ],
      "execution_count": 0,
      "outputs": []
    },
    {
      "cell_type": "markdown",
      "metadata": {
        "id": "WlWewTXSP9J6",
        "colab_type": "text"
      },
      "source": [
        "En este bloque simplemente graficaremos la función a minimizar. Aquí podemos intuir una solución para X = 5 con un valor de f = 0 ."
      ]
    },
    {
      "cell_type": "code",
      "metadata": {
        "id": "Lazj9j8eFMee",
        "colab_type": "code",
        "colab": {
          "base_uri": "https://localhost:8080/",
          "height": 282
        },
        "outputId": "4401fb25-2e8b-4143-9ae1-9c468488b61e"
      },
      "source": [
        "x_0 = np.arange(-10, 15, 0.5)\n",
        "ff = np.zeros(shape = (len(x_0), 1))\n",
        "\n",
        "for i in range(len(x_0)):\n",
        "  ff[i] = np.abs((x_0[i] - 5) / (2 + math.sin(x_0[i])))\n",
        "\n",
        "plt.plot(x_0, ff)"
      ],
      "execution_count": 7,
      "outputs": [
        {
          "output_type": "execute_result",
          "data": {
            "text/plain": [
              "[<matplotlib.lines.Line2D at 0x7f08b699a4e0>]"
            ]
          },
          "metadata": {
            "tags": []
          },
          "execution_count": 7
        },
        {
          "output_type": "display_data",
          "data": {
            "image/png": "[encoded data removed]",
            "text/plain": [
              "<Figure size 432x288 with 1 Axes>"
            ]
          },
          "metadata": {
            "tags": [],
            "needs_background": "light"
          }
        }
      ]
    },
    {
      "cell_type": "markdown",
      "metadata": {
        "id": "dk9B3bQOQLhW",
        "colab_type": "text"
      },
      "source": [
        "Antes de empezar a diseñar se setearan las constantes. Elegimos una población con tamaño 100, un 80% de porcentaje de crossover, un 20% para la mutación, una cantidad de generaciones máxima igual a 20 y una cantidad de individuos igual a 10 (los 10 mejores) para que pasen directamente a la siguiente generación."
      ]
    },
    {
      "cell_type": "code",
      "metadata": {
        "id": "6Pw4db36NFgI",
        "colab_type": "code",
        "colab": {}
      },
      "source": [
        "POPULATION_SIZE = 100\n",
        "P_CROSSOVER = 0.8\n",
        "P_MUTATION = 0.2 \n",
        "MAX_GENERATIONS = 20\n",
        "HALL_OF_FAME_SIZE = 10"
      ],
      "execution_count": 0,
      "outputs": []
    },
    {
      "cell_type": "markdown",
      "metadata": {
        "id": "ZMZdmvrGQuAK",
        "colab_type": "text"
      },
      "source": [
        "Aquí debo explicar lo principal que agregué a la librería. \"DEAP\" es una librería de algoritmos genéticos pero no tiene funciones de \"crossover\" ni \"mutation\" para número reales que trabajen bit a bit. Entonces, lo que hice fue trabajar con una función binaria, es decir, cada individuo es un arreglo de \"1's\" y \"0's\". Sin embargo, a la hora de evaluar la función de coste, paso ese arreglo de bits a números reales y recién evaluo en la función de coste. \n",
        "\n",
        "Luego cuando hago crossover y mutation lo hago con los individuos que son arreglos binarios, pero para evaluar en la función hago un pasaje de binario a real. Lo lindo es que es muy sencillo y funciona siempre. \n",
        "\n",
        "Para esto tengo que setear manualmente los límites ([-10 : 15] en este caso) y la cantidad de bits con los que voy a trabajar (10 en este caso, 5 para la parte real y 5 para la parte decimal).\n",
        "\n",
        "También arreglo mediante dos simples \"if\" el caso para el cuando me paso de los límites. Creo que no es la mejor manera de hacerlo, pero seguramente es la más sencilla y funciona de maravilla, incluso para caso con 2 o 3 variables! \n",
        "\n",
        "Una última aclaración, la función roulette funciona solamente para maximizar variables y cuando las funciones son todas positivas. En el caso de funciones positivas, no hay problemas debido al valor absoluto que tiene la función (si lo hubiese habría que agregar un offset) pero en el caso de maximizar una función, sí. \n",
        "\n",
        "Como lo que pide el ejercicio es minimizar la función, simplemente la apliqué un signo menos a la función para que ahora lo que el algoritmo tenga que hacer es maximizarla y no minimizarla.\n",
        "\n",
        "Tal vez, la explicación no es muy buena, pero fue todo a ojo tratando de acomodarme a las herramientas que tenía, cualquier cosa estoy a su disposición para consultas."
      ]
    },
    {
      "cell_type": "code",
      "metadata": {
        "id": "p8NHqIHmQtLm",
        "colab_type": "code",
        "colab": {}
      },
      "source": [
        "def function_mini(individual):\n",
        "    x = -13.5\n",
        "    for bin in range(10):\n",
        "      x += individual[bin] * 2**(5 - bin)\n",
        "    \n",
        "    if x > 15:\n",
        "      x = 15\n",
        "    elif x < -10:\n",
        "      x = -10\n",
        "\n",
        "    f = np.abs((x - 5) / (2 + math.sin(x)))\n",
        "    return -f, "
      ],
      "execution_count": 0,
      "outputs": []
    },
    {
      "cell_type": "markdown",
      "metadata": {
        "id": "o70-J3ibTNPB",
        "colab_type": "text"
      },
      "source": [
        "Aquí comienza la parte en la que uso la librería. Basicamente lo que hago aquí es:\n",
        "1. definir que lo que quiero hacer es maximizar la función\n",
        "2. crear un arreglo binario de 10 elementos para cada individuo\n",
        "3. crear una población de los individuos creados anteriormente\n",
        "4. asignar la funcion definida en el bloque anterior para que la utilice como función de coste\n",
        "5. asignar el método Roulette como método de selección\n",
        "6. asignar el método Two-Point para el crossover a los individuos binarios\n",
        "7. asignar el método Flip-Binario para la mutación y también la probabilidad con la eso pase (asigné 1/ (el largo del string) como decía en la bibliografía) "
      ]
    },
    {
      "cell_type": "code",
      "metadata": {
        "id": "JYpUgToZNS64",
        "colab_type": "code",
        "colab": {
          "base_uri": "https://localhost:8080/",
          "height": 105
        },
        "outputId": "883d68b9-bef6-40ff-c99b-364a1fbb6e94"
      },
      "source": [
        "toolbox = base.Toolbox()\n",
        "creator.create(\"FitnessMax\", base.Fitness, weights=(1.0,))\n",
        "creator.create(\"Individual\", list, fitness=creator.FitnessMax)\n",
        "\n",
        "toolbox.register(\"zeroOrOne\", random.randint, 0, 1)\n",
        "toolbox.register(\"individualCreator\", tools.initRepeat, creator.Individual, toolbox.zeroOrOne, 10)\n",
        "toolbox.register(\"populationCreator\", tools.initRepeat, list, toolbox.individualCreator)\n",
        "toolbox.register(\"evaluate\", function_mini)\n",
        "toolbox.register(\"select\", tools.selRoulette)\n",
        "toolbox.register(\"mate\", tools.cxTwoPoint)\n",
        "toolbox.register(\"mutate\", tools.mutFlipBit, indpb=1.0/10)"
      ],
      "execution_count": 16,
      "outputs": [
        {
          "output_type": "stream",
          "text": [
            "/usr/local/lib/python3.6/dist-packages/deap/creator.py:141: RuntimeWarning: A class named 'FitnessMax' has already been created and it will be overwritten. Consider deleting previous creation of that class or rename it.\n",
            "  RuntimeWarning)\n",
            "/usr/local/lib/python3.6/dist-packages/deap/creator.py:141: RuntimeWarning: A class named 'Individual' has already been created and it will be overwritten. Consider deleting previous creation of that class or rename it.\n",
            "  RuntimeWarning)\n"
          ],
          "name": "stderr"
        }
      ]
    },
    {
      "cell_type": "markdown",
      "metadata": {
        "id": "fzJOyzGnUaSG",
        "colab_type": "text"
      },
      "source": [
        "Aquí se crea a la población con los métodos creados anteriormente. Se crean algunas variables que almacenarán datos para luego poder graficar. Se crea la variable \"Hall of Fame\" que es basicamente la función de elite.\n",
        "\n",
        "Y, finalmente, se ejecuta el algoritmo. Para esto se utiliza una librería llamada \"elitism\" que permite que los mejores individuos pasen directamente. Todos los parámetros que pide la función son los que definimos en los bloques anteriores."
      ]
    },
    {
      "cell_type": "code",
      "metadata": {
        "id": "J6qr1Zh0OTJB",
        "colab_type": "code",
        "colab": {}
      },
      "source": [
        "population = toolbox.populationCreator(n=POPULATION_SIZE)\n",
        "stats = tools.Statistics(lambda ind: ind.fitness.values)\n",
        "stats.register(\"max\", np.max)\n",
        "stats.register(\"avg\", np.mean)\n",
        "hof = tools.HallOfFame(HALL_OF_FAME_SIZE)\n",
        "population, logbook = elitism.eaSimpleWithElitism(population, toolbox, cxpb=P_CROSSOVER, mutpb=P_MUTATION,\n",
        "                                          ngen=MAX_GENERATIONS, stats=stats, halloffame=hof, verbose=False)\n",
        "maxFitnessValues, meanFitnessValues = logbook.select(\"max\", \"avg\")"
      ],
      "execution_count": 0,
      "outputs": []
    },
    {
      "cell_type": "markdown",
      "metadata": {
        "id": "BScZH3fMVJuT",
        "colab_type": "text"
      },
      "source": [
        "Ahora graficamos con las estadisticas recolectadas anteriormente. En rojo vemos el fitness del mejor elemento a los largo de las generaciones y en verde el valor del promedio de toda la población.\n",
        "\n",
        "Aparentemente a partir de la generación 5, ya se estabiliza, esto es debido a que use una población alta (100). Esos valores se pueden modificar facilmente en el primer bloque."
      ]
    },
    {
      "cell_type": "code",
      "metadata": {
        "id": "fuooTEy6OX0t",
        "colab_type": "code",
        "colab": {
          "base_uri": "https://localhost:8080/",
          "height": 279
        },
        "outputId": "b08b2eab-afb2-4e49-fdfa-15864cd4135f"
      },
      "source": [
        "sns.set_style(\"whitegrid\")\n",
        "plt.plot(maxFitnessValues, color='red')\n",
        "plt.plot(meanFitnessValues, color='green')\n",
        "plt.xlabel('Generation')\n",
        "plt.ylabel('Max / Average Fitness')\n",
        "\n",
        "plt.show()"
      ],
      "execution_count": 19,
      "outputs": [
        {
          "output_type": "display_data",
          "data": {
            "image/png": "[encoded data removed]",
            "text/plain": [
              "<Figure size 432x288 with 1 Axes>"
            ]
          },
          "metadata": {
            "tags": []
          }
        }
      ]
    },
    {
      "cell_type": "markdown",
      "metadata": {
        "id": "7HntslKqWMLB",
        "colab_type": "text"
      },
      "source": [
        "Por último, observamos los resultados. El mejor individuo tiene un fitness igual a 0 en X = 5 como intuimos al comienzo del ejercicio."
      ]
    },
    {
      "cell_type": "code",
      "metadata": {
        "id": "p_zNktfIOdoQ",
        "colab_type": "code",
        "colab": {
          "base_uri": "https://localhost:8080/",
          "height": 34
        },
        "outputId": "de7f9290-08a5-4fee-f851-e5ea7f9e7fd1"
      },
      "source": [
        "best = hof.items[0]\n",
        "\n",
        "x = -13.5\n",
        "for bin in range(10):\n",
        "  x += best[bin] * 2**(5 - bin)\n",
        "if x > 15:\n",
        "  x = 15\n",
        "elif x < -10:\n",
        "  x = -10\n",
        "f = np.abs((x - 5) / (2 + math.sin(x)))\n",
        "\n",
        "print(\"El fitness vale \",f,\"para X =\",x)"
      ],
      "execution_count": 21,
      "outputs": [
        {
          "output_type": "stream",
          "text": [
            "El fitness vale  0.0 para X = 5.0\n"
          ],
          "name": "stdout"
        }
      ]
    },
    {
      "cell_type": "code",
      "metadata": {
        "id": "1Q94YWBKO0wu",
        "colab_type": "code",
        "colab": {}
      },
      "source": [
        ""
      ],
      "execution_count": 0,
      "outputs": []
    }
  ]
}