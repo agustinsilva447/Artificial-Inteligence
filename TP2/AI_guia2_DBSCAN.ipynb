{
  "nbformat": 4,
  "nbformat_minor": 0,
  "metadata": {
    "colab": {
      "name": "AI_guia2_DBSCAN.ipynb",
      "provenance": [],
      "collapsed_sections": []
    },
    "kernelspec": {
      "name": "python3",
      "display_name": "Python 3"
    }
  },
  "cells": [
    {
      "cell_type": "markdown",
      "metadata": {
        "id": "UpV7rcp8UfJN",
        "colab_type": "text"
      },
      "source": [
        "En primer lugar, importamos las librerías necesario, cargamos el archivos \"seeds_dataser.txt\"  (eliminando la última columna) e inicializamos algunas variables."
      ]
    },
    {
      "cell_type": "code",
      "metadata": {
        "id": "nuyxFBBnX_NH",
        "colab_type": "code",
        "colab": {}
      },
      "source": [
        "import numpy as np\n",
        "from sklearn import metrics\n",
        "from sklearn.cluster import DBSCAN\n",
        "\n",
        "X = np.loadtxt(\"seeds_dataset.txt\", dtype=np.float32)\n",
        "X = X[:,0:7]\n",
        "\n",
        "max_sil = -1\n",
        "clu_fin = 0\n",
        "noi_fin = 0"
      ],
      "execution_count": 0,
      "outputs": []
    },
    {
      "cell_type": "markdown",
      "metadata": {
        "id": "kl3Ucku9UtlD",
        "colab_type": "text"
      },
      "source": [
        "Aquí haremos varios pasos juntos. Vamos usar el método DBSCAN, este método requiere de dos parámetros eps (la distancia en que cada cluster va a buscar puntos) y min_samples (la mínima cantidad de puntos necesarias para que un cluster sea considera como tal).\n",
        "\n",
        "Como no sabemos cuál es el valor óptimo de \"eps\" y \"min_samples\" vamos a probar con 15 eps distintos y 29 min_samples. Con cada caso vamos a analizar el vamos silhouette y nos vamos a quedar con el valor óptimo.\n",
        "\n",
        "Finalmente, informaremos el valor óptimo del coeficiente de Silhouette, los valores óptimos de \"eps\" y \"min_samples\", el número resultante de clusters y los puntos ruidosos (la cantidad de puntos que quedaron fuera de clusters)."
      ]
    },
    {
      "cell_type": "code",
      "metadata": {
        "id": "rwUYb9_tLRz6",
        "colab_type": "code",
        "outputId": "4a84e24f-1f5c-440c-b1bd-70cbcbc6027f",
        "colab": {
          "base_uri": "https://localhost:8080/",
          "height": 68
        }
      },
      "source": [
        "for eps_for in range(1,15):\n",
        "  for min_for in range(2,30):\n",
        "\n",
        "    db = DBSCAN(eps=(eps_for/10), min_samples=(min_for)).fit(X)\n",
        "    labels = db.labels_\n",
        "\n",
        "    n_clusters_ = len(set(labels)) - (1 if -1 in labels else 0)\n",
        "    n_noise_ = list(labels).count(-1)\n",
        "\n",
        "    if n_clusters_!=0:\n",
        "      if metrics.silhouette_score(X, labels) > max_sil:\n",
        "        max_sil = metrics.silhouette_score(X, labels)\n",
        "        clu_fin = n_clusters_\n",
        "        noi_fin = n_noise_\n",
        "        eps_fin = eps_for/10\n",
        "        min_fin = min_for \n",
        "        \n",
        "print(\"El valor máximo del Coeficiente Silhouette es: \", max_sil)\n",
        "print(\"Para los valores de eps =\", eps_fin, \"y valor de min_samples =\", min_fin)\n",
        "print(\"Un número estimado de clusters =\",clu_fin,\"y puntos ruidosos =\",noi_fin)"
      ],
      "execution_count": 51,
      "outputs": [
        {
          "output_type": "stream",
          "text": [
            "El valor máximo del Coeficiente Silhouette es:  0.40560448\n",
            "Para los valores de eps = 1.4 y valor de min_samples = 21\n",
            "Un número estimado de clusters = 2 y puntos ruidosos = 23\n"
          ],
          "name": "stdout"
        }
      ]
    },
    {
      "cell_type": "markdown",
      "metadata": {
        "id": "E5qOZiPwcf0m",
        "colab_type": "text"
      },
      "source": [
        "Observamos que el número óptimo de clusters es para N = 2."
      ]
    }
  ]
}